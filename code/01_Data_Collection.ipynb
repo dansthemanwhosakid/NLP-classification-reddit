{
 "cells": [
  {
   "cell_type": "markdown",
   "metadata": {},
   "source": [
    "# Project 3: Reddit NLP - Data Collection & Cleaning\n",
    "\n",
    "Pushshift is a service that archives and indexes Reddit at regular intervals. It allows for higher-level search functionality and querying for Reddit comments and submissions, facilitating data collection for analysis and modeling. The API leverages the requests library to return a json response that can then be parsed for the data of interest.\n",
    "\n",
    "Resources: \n",
    "- Pushshift Endpoints: https://pushshift.io/\n",
    "- Pushshift Documentation: https://github.com/pushshift/api\n",
    "- Pushshift Subreddit: https://www.reddit.com/r/pushshift/comments/89pxra/pushshift_api_with_large_amounts_of_data/\n",
    "\n",
    "Credit goes to Chris Sinatra"
   ]
  },
  {
   "cell_type": "code",
   "execution_count": 4,
   "metadata": {},
   "outputs": [],
   "source": [
    "import requests, time, csv, json, re\n",
    "import pandas as pd"
   ]
  },
  {
   "cell_type": "markdown",
   "metadata": {},
   "source": [
    "## Setting the base query syntax:"
   ]
  },
  {
   "cell_type": "markdown",
   "metadata": {},
   "source": [
    "Setting the query url to the pushshift api. Submission is chained at the end of the url because I am setting the parameter to only select subreddit posts/submissions and not comments. In the context of the dating and relationship advice subreddits, the submissions are usually more verbose than comments because posters are seeking help for their situation(s)."
   ]
  },
  {
   "cell_type": "code",
   "execution_count": 5,
   "metadata": {},
   "outputs": [],
   "source": [
    "url = 'https://api.pushshift.io/reddit/search/submission'"
   ]
  },
  {
   "cell_type": "markdown",
   "metadata": {},
   "source": [
    "In the following test run, I am going to pull data from the dating subreddit and pull the 5 most recent submissions. The `sort` feature allows me to choose the oldest/newest posts. "
   ]
  },
  {
   "cell_type": "code",
   "execution_count": 6,
   "metadata": {},
   "outputs": [],
   "source": [
    "params = {\n",
    "          'subreddit':'dating',\n",
    "          'sort':'desc',\n",
    "          'size':5,\n",
    "         }"
   ]
  },
  {
   "cell_type": "code",
   "execution_count": 7,
   "metadata": {},
   "outputs": [
    {
     "data": {
      "text/plain": [
       "200"
      ]
     },
     "execution_count": 7,
     "metadata": {},
     "output_type": "execute_result"
    }
   ],
   "source": [
    "response = requests.get(url, params=params)\n",
    "response.status_code"
   ]
  },
  {
   "cell_type": "markdown",
   "metadata": {},
   "source": [
    "The status code returned from the server is 200, meaning the query was accepted and there aren't any connection issues. Checking length of the json file."
   ]
  },
  {
   "cell_type": "code",
   "execution_count": 8,
   "metadata": {},
   "outputs": [
    {
     "data": {
      "text/plain": [
       "5"
      ]
     },
     "execution_count": 8,
     "metadata": {},
     "output_type": "execute_result"
    }
   ],
   "source": [
    "len(response.json()['data'])"
   ]
  },
  {
   "cell_type": "markdown",
   "metadata": {},
   "source": [
    "List of attributes from a single submission:"
   ]
  },
  {
   "cell_type": "code",
   "execution_count": 9,
   "metadata": {
    "scrolled": true
   },
   "outputs": [
    {
     "data": {
      "text/plain": [
       "dict_keys(['author', 'author_flair_css_class', 'author_flair_richtext', 'author_flair_text', 'author_flair_type', 'author_fullname', 'author_patreon_flair', 'can_mod_post', 'contest_mode', 'created_utc', 'domain', 'full_link', 'gildings', 'id', 'is_crosspostable', 'is_meta', 'is_original_content', 'is_reddit_media_domain', 'is_robot_indexable', 'is_self', 'is_video', 'link_flair_background_color', 'link_flair_css_class', 'link_flair_richtext', 'link_flair_template_id', 'link_flair_text', 'link_flair_text_color', 'link_flair_type', 'locked', 'media_only', 'no_follow', 'num_comments', 'num_crossposts', 'over_18', 'parent_whitelist_status', 'permalink', 'pinned', 'pwls', 'retrieved_on', 'score', 'selftext', 'send_replies', 'spoiler', 'stickied', 'subreddit', 'subreddit_id', 'subreddit_subscribers', 'subreddit_type', 'thumbnail', 'title', 'url', 'whitelist_status', 'wls'])"
      ]
     },
     "execution_count": 9,
     "metadata": {},
     "output_type": "execute_result"
    }
   ],
   "source": [
    "response.json()['data'][0].keys()"
   ]
  },
  {
   "cell_type": "markdown",
   "metadata": {},
   "source": [
    "Keys of interest are:\n",
    "- author\n",
    "- selftext\n",
    "- permalink\n",
    "- subreddit"
   ]
  },
  {
   "cell_type": "markdown",
   "metadata": {},
   "source": [
    "I am going to look at each pulled posts' permalinks to verify that they were pulled correctly:"
   ]
  },
  {
   "cell_type": "code",
   "execution_count": 11,
   "metadata": {},
   "outputs": [
    {
     "name": "stdout",
     "output_type": "stream",
     "text": [
      "/r/dating/comments/bbium8/vip_escorts_in_bangalore_at_affordable_price/\n",
      "/r/dating/comments/bbilev/feel_like_my_mate_was_hitting_all_night_on_a/\n",
      "/r/dating/comments/bbiktd/am_i_being_too_picky_how_important_is_the_spark/\n",
      "/r/dating/comments/bbiild/what_are_some_great_first_date_questions_that_can/\n",
      "/r/dating/comments/bbifsz/considering_going_off_birth_control_so_that_some/\n"
     ]
    }
   ],
   "source": [
    "for _ in range(len(response.json()['data'])):\n",
    "    print(response.json()['data'][_]['permalink'])"
   ]
  },
  {
   "cell_type": "markdown",
   "metadata": {},
   "source": [
    "Checking the length of the json, which is equivalent to how many submissions the API grabbed."
   ]
  },
  {
   "cell_type": "code",
   "execution_count": 7,
   "metadata": {},
   "outputs": [
    {
     "data": {
      "text/plain": [
       "5"
      ]
     },
     "execution_count": 7,
     "metadata": {},
     "output_type": "execute_result"
    }
   ],
   "source": [
    "len(response.json()['data'])"
   ]
  },
  {
   "cell_type": "markdown",
   "metadata": {},
   "source": [
    " ## Querying Reddit and saving raw data in .json format:"
   ]
  },
  {
   "cell_type": "markdown",
   "metadata": {},
   "source": [
    "Writing a function for creating a logfile and formatting file names with a unique timestamp.\n",
    "Keeps track of the files created from pulling data."
   ]
  },
  {
   "cell_type": "code",
   "execution_count": 8,
   "metadata": {},
   "outputs": [],
   "source": [
    "def filename_format_log(file_path, \n",
    "                        logfile = '../assets/file_log.txt', \n",
    "                        now = round(time.time()), \n",
    "                        file_description = None): \n",
    "   \n",
    "    try:\n",
    "        ext = re.search('(?<!^)(?<!\\.)\\.(?!\\.)', file_path).start() \n",
    "    except:\n",
    "        raise NameError('Please enter a relative path with a file extension.') \n",
    "    \n",
    "    stamp = re.search('(?<!^)(?<!\\.)[a-z]+_[a-z]+(?=\\.)', file_path).start()\n",
    "    formatted_name = f'{file_path[:stamp]}{now}_{file_path[stamp:]}'  \n",
    "    if not file_description:\n",
    "        file_description = f'Pull: {time.asctime(time.gmtime(now))}'\n",
    "    with open(logfile, 'a+') as f:\n",
    "        f.write(f'{formatted_name}: {file_description}\\n')\n",
    "    return formatted_name, now, file_description"
   ]
  },
  {
   "cell_type": "markdown",
   "metadata": {},
   "source": [
    "Writing a function for collecting comments and parsing into a dataframe with the features of interest, saving out the raw data for each pull. Request loop inspired: [(Source)](https://www.reddit.com/r/pushshift/comments/89pxra/pushshift_api_with_large_amounts_of_data/)."
   ]
  },
  {
   "cell_type": "code",
   "execution_count": 9,
   "metadata": {},
   "outputs": [],
   "source": [
    "def reddit_query(subreddits, n_samples=1500, before=None, after=None):\n",
    "    \n",
    "    url = f'https://api.pushshift.io/reddit/search/submission'\n",
    "    last_comment = round(time.time())\n",
    "    comment_list = []\n",
    "    \n",
    "    run = 1\n",
    "    while len(comment_list) < n_samples:\n",
    "        \n",
    "        try:\n",
    "            print(f'Starting query {run}')\n",
    "            \n",
    "            params = {\n",
    "              'subreddit':subreddits,\n",
    "              'sort':'desc',\n",
    "              'size':n_samples,\n",
    "              'before':last_comment-1,\n",
    "              'after':after,\n",
    "             }\n",
    "                \n",
    "            response = requests.get(url, params = params)\n",
    "            posts = response.json()['data']\n",
    "            \n",
    "            if len(posts) == 0:\n",
    "                last_comment = last_comment\n",
    "            else:\n",
    "                last_comment = posts[-1]['created_utc']\n",
    "                comment_list.extend(posts)\n",
    "                timestamp = posts[-1]['created_utc']\n",
    "                time.sleep(1) \n",
    "                run += 1\n",
    "        except:\n",
    "            if response.status_code != 200:\n",
    "                return f'Check status. Error code: {response.status_code}'\n",
    "            else:\n",
    "                return 'Error. Pull not completed.'\n",
    "    \n",
    "    formatted_name, now, file_description = filename_format_log(file_path =f'../data/{subreddits}_raw_submissions.json', now=timestamp)\n",
    "    with open(formatted_name, 'w+') as f:\n",
    "        json.dump(comment_list, f)\n",
    "    \n",
    "    print(f'Saved and completed query and returned {len(comment_list)} submissions.')\n",
    "    print(f'Reddit text is ready for processing.')\n",
    "    return print(f'Last timestamp was {timestamp}.')"
   ]
  },
  {
   "cell_type": "markdown",
   "metadata": {},
   "source": [
    "Using the query function to collect 10000 comments from the dating subreddit."
   ]
  },
  {
   "cell_type": "code",
   "execution_count": 10,
   "metadata": {},
   "outputs": [
    {
     "name": "stdout",
     "output_type": "stream",
     "text": [
      "Starting query 1\n",
      "Starting query 2\n",
      "Starting query 3\n",
      "Starting query 4\n",
      "Starting query 5\n",
      "Starting query 6\n",
      "Starting query 7\n",
      "Starting query 8\n",
      "Starting query 9\n",
      "Starting query 10\n",
      "Saved and completed query and returned 10000 submissions.\n",
      "Reddit text is ready for processing.\n",
      "Last timestamp was 1545699198.\n"
     ]
    }
   ],
   "source": [
    "reddit_query(subreddits='dating',\n",
    "             n_samples=10000)"
   ]
  },
  {
   "cell_type": "markdown",
   "metadata": {},
   "source": [
    "Using the query function to collect 10000 comments from the dating subreddit."
   ]
  },
  {
   "cell_type": "code",
   "execution_count": 11,
   "metadata": {},
   "outputs": [
    {
     "name": "stdout",
     "output_type": "stream",
     "text": [
      "Starting query 1\n",
      "Starting query 2\n",
      "Starting query 3\n",
      "Starting query 4\n",
      "Starting query 5\n",
      "Starting query 6\n",
      "Starting query 7\n",
      "Starting query 8\n",
      "Starting query 9\n",
      "Starting query 10\n",
      "Saved and completed query and returned 10000 submissions.\n",
      "Reddit text is ready for processing.\n",
      "Last timestamp was 1553649404.\n"
     ]
    }
   ],
   "source": [
    "reddit_query(subreddits='relationship_advice',\n",
    "             n_samples=10000)"
   ]
  },
  {
   "cell_type": "code",
   "execution_count": 12,
   "metadata": {},
   "outputs": [
    {
     "name": "stdout",
     "output_type": "stream",
     "text": [
      "dating_1545268715_raw_submissions.json\r\n",
      "dating_1545699198_raw_submissions.json\r\n",
      "df.csv\r\n",
      "relationship_advice_1553295834_raw_submissions.json\r\n",
      "relationship_advice_1553649404_raw_submissions.json\r\n"
     ]
    }
   ],
   "source": [
    "!ls '../data/'"
   ]
  },
  {
   "cell_type": "code",
   "execution_count": 4,
   "metadata": {},
   "outputs": [],
   "source": [
    "with open(f'../data/dating_1545268715_raw_submissions.json', 'r') as f:\n",
    "    dating_json = json.load(f)"
   ]
  },
  {
   "cell_type": "code",
   "execution_count": 5,
   "metadata": {},
   "outputs": [
    {
     "data": {
      "text/plain": [
       "10000"
      ]
     },
     "execution_count": 5,
     "metadata": {},
     "output_type": "execute_result"
    }
   ],
   "source": [
    "len(dating_json)"
   ]
  },
  {
   "cell_type": "markdown",
   "metadata": {},
   "source": [
    "Parsing the json file into a dataframe containing the features of interest."
   ]
  },
  {
   "cell_type": "code",
   "execution_count": 6,
   "metadata": {
    "scrolled": true
   },
   "outputs": [
    {
     "data": {
      "text/plain": [
       "dict_keys(['author', 'author_flair_css_class', 'author_flair_richtext', 'author_flair_text', 'author_flair_type', 'author_fullname', 'author_patreon_flair', 'can_mod_post', 'contest_mode', 'created_utc', 'domain', 'full_link', 'gildings', 'id', 'is_crosspostable', 'is_meta', 'is_original_content', 'is_reddit_media_domain', 'is_robot_indexable', 'is_self', 'is_video', 'link_flair_background_color', 'link_flair_css_class', 'link_flair_richtext', 'link_flair_template_id', 'link_flair_text', 'link_flair_text_color', 'link_flair_type', 'locked', 'media_only', 'no_follow', 'num_comments', 'num_crossposts', 'over_18', 'parent_whitelist_status', 'permalink', 'pinned', 'pwls', 'retrieved_on', 'score', 'selftext', 'send_replies', 'spoiler', 'stickied', 'subreddit', 'subreddit_id', 'subreddit_subscribers', 'subreddit_type', 'thumbnail', 'title', 'url', 'whitelist_status', 'wls'])"
      ]
     },
     "execution_count": 6,
     "metadata": {},
     "output_type": "execute_result"
    }
   ],
   "source": [
    "dating_json[0].keys()"
   ]
  },
  {
   "cell_type": "markdown",
   "metadata": {},
   "source": [
    "Keys of interest are:\n",
    "- author\n",
    "- selftext\n",
    "- permalink\n",
    "- subreddit"
   ]
  },
  {
   "cell_type": "code",
   "execution_count": 7,
   "metadata": {},
   "outputs": [],
   "source": [
    "def reddit_to_df(sample):\n",
    "    \n",
    "    col_list = ['author',\n",
    "                'selftext',\n",
    "                'subreddit',\n",
    "                'permalink',\n",
    "                ]\n",
    "    \n",
    "    submissions_df = pd.DataFrame(sample)\n",
    "    submissions_df = submissions_df[col_list]\n",
    "\n",
    "    return submissions_df"
   ]
  },
  {
   "cell_type": "code",
   "execution_count": 8,
   "metadata": {},
   "outputs": [],
   "source": [
    "dating_df = reddit_to_df(dating_json)"
   ]
  },
  {
   "cell_type": "code",
   "execution_count": 9,
   "metadata": {},
   "outputs": [],
   "source": [
    "with open(f'../data/relationship_advice_1553295834_raw_submissions.json', 'r') as f:\n",
    "    relationship_json = json.load(f)"
   ]
  },
  {
   "cell_type": "code",
   "execution_count": 10,
   "metadata": {},
   "outputs": [],
   "source": [
    "relationship_advice_df = reddit_to_df(relationship_json)"
   ]
  },
  {
   "cell_type": "code",
   "execution_count": 11,
   "metadata": {},
   "outputs": [
    {
     "data": {
      "text/html": [
       "<div>\n",
       "<style scoped>\n",
       "    .dataframe tbody tr th:only-of-type {\n",
       "        vertical-align: middle;\n",
       "    }\n",
       "\n",
       "    .dataframe tbody tr th {\n",
       "        vertical-align: top;\n",
       "    }\n",
       "\n",
       "    .dataframe thead th {\n",
       "        text-align: right;\n",
       "    }\n",
       "</style>\n",
       "<table border=\"1\" class=\"dataframe\">\n",
       "  <thead>\n",
       "    <tr style=\"text-align: right;\">\n",
       "      <th></th>\n",
       "      <th>author</th>\n",
       "      <th>selftext</th>\n",
       "      <th>subreddit</th>\n",
       "      <th>permalink</th>\n",
       "    </tr>\n",
       "  </thead>\n",
       "  <tbody>\n",
       "    <tr>\n",
       "      <th>0</th>\n",
       "      <td>thethrowayboi</td>\n",
       "      <td>Hey Reddit,\\n\\nSo I've been in a very stable a...</td>\n",
       "      <td>relationship_advice</td>\n",
       "      <td>/r/relationship_advice/comments/b7yrg8/my_girl...</td>\n",
       "    </tr>\n",
       "    <tr>\n",
       "      <th>1</th>\n",
       "      <td>throwaway66770220</td>\n",
       "      <td>I (19F) have been with my boyfriend (20M) for ...</td>\n",
       "      <td>relationship_advice</td>\n",
       "      <td>/r/relationship_advice/comments/b7yr4m/i_dont_...</td>\n",
       "    </tr>\n",
       "    <tr>\n",
       "      <th>2</th>\n",
       "      <td>forgottenveggie</td>\n",
       "      <td>- warning will probably be long as semi ventin...</td>\n",
       "      <td>relationship_advice</td>\n",
       "      <td>/r/relationship_advice/comments/b7yq90/how_to_...</td>\n",
       "    </tr>\n",
       "    <tr>\n",
       "      <th>3</th>\n",
       "      <td>trowway988</td>\n",
       "      <td>Throwaway account for the reason that my bf is...</td>\n",
       "      <td>relationship_advice</td>\n",
       "      <td>/r/relationship_advice/comments/b7yq2l/my21f_b...</td>\n",
       "    </tr>\n",
       "    <tr>\n",
       "      <th>4</th>\n",
       "      <td>CrazyMonkey0425</td>\n",
       "      <td>I’m (19M) in that mindset that I really like t...</td>\n",
       "      <td>relationship_advice</td>\n",
       "      <td>/r/relationship_advice/comments/b7ypr2/when_pu...</td>\n",
       "    </tr>\n",
       "  </tbody>\n",
       "</table>\n",
       "</div>"
      ],
      "text/plain": [
       "              author                                           selftext  \\\n",
       "0      thethrowayboi  Hey Reddit,\\n\\nSo I've been in a very stable a...   \n",
       "1  throwaway66770220  I (19F) have been with my boyfriend (20M) for ...   \n",
       "2    forgottenveggie  - warning will probably be long as semi ventin...   \n",
       "3         trowway988  Throwaway account for the reason that my bf is...   \n",
       "4    CrazyMonkey0425  I’m (19M) in that mindset that I really like t...   \n",
       "\n",
       "             subreddit                                          permalink  \n",
       "0  relationship_advice  /r/relationship_advice/comments/b7yrg8/my_girl...  \n",
       "1  relationship_advice  /r/relationship_advice/comments/b7yr4m/i_dont_...  \n",
       "2  relationship_advice  /r/relationship_advice/comments/b7yq90/how_to_...  \n",
       "3  relationship_advice  /r/relationship_advice/comments/b7yq2l/my21f_b...  \n",
       "4  relationship_advice  /r/relationship_advice/comments/b7ypr2/when_pu...  "
      ]
     },
     "execution_count": 11,
     "metadata": {},
     "output_type": "execute_result"
    }
   ],
   "source": [
    "relationship_advice_df.head()"
   ]
  },
  {
   "cell_type": "markdown",
   "metadata": {},
   "source": [
    "Combining the two dataframes together"
   ]
  },
  {
   "cell_type": "code",
   "execution_count": 12,
   "metadata": {},
   "outputs": [],
   "source": [
    "df = pd.concat([dating_df,relationship_advice_df], ignore_index= True)"
   ]
  },
  {
   "cell_type": "markdown",
   "metadata": {},
   "source": [
    "I need to remove `[removed]`, `[deleted]`, and `null` comments in the `selftext` column"
   ]
  },
  {
   "cell_type": "code",
   "execution_count": 13,
   "metadata": {
    "scrolled": false
   },
   "outputs": [
    {
     "data": {
      "text/plain": [
       "[removed]    2115\n",
       "[deleted]       8\n",
       "Name: selftext, dtype: int64"
      ]
     },
     "execution_count": 13,
     "metadata": {},
     "output_type": "execute_result"
    }
   ],
   "source": [
    "df[(df['selftext'] == '[removed]')|(df['selftext'] == '[deleted]')]['selftext'].value_counts()"
   ]
  },
  {
   "cell_type": "code",
   "execution_count": 14,
   "metadata": {},
   "outputs": [],
   "source": [
    "df = df[~df['selftext'].isin(['[removed]','[deleted]'])]"
   ]
  },
  {
   "cell_type": "markdown",
   "metadata": {},
   "source": [
    "I also will remove `null` selftexts:"
   ]
  },
  {
   "cell_type": "code",
   "execution_count": 15,
   "metadata": {},
   "outputs": [
    {
     "data": {
      "text/html": [
       "<div>\n",
       "<style scoped>\n",
       "    .dataframe tbody tr th:only-of-type {\n",
       "        vertical-align: middle;\n",
       "    }\n",
       "\n",
       "    .dataframe tbody tr th {\n",
       "        vertical-align: top;\n",
       "    }\n",
       "\n",
       "    .dataframe thead th {\n",
       "        text-align: right;\n",
       "    }\n",
       "</style>\n",
       "<table border=\"1\" class=\"dataframe\">\n",
       "  <thead>\n",
       "    <tr style=\"text-align: right;\">\n",
       "      <th></th>\n",
       "      <th>author</th>\n",
       "      <th>selftext</th>\n",
       "      <th>subreddit</th>\n",
       "      <th>permalink</th>\n",
       "    </tr>\n",
       "  </thead>\n",
       "  <tbody>\n",
       "    <tr>\n",
       "      <th>332</th>\n",
       "      <td>[deleted]</td>\n",
       "      <td>NaN</td>\n",
       "      <td>dating</td>\n",
       "      <td>/r/dating/comments/b6nwaf/a_girl_i_see_on_a_da...</td>\n",
       "    </tr>\n",
       "    <tr>\n",
       "      <th>3361</th>\n",
       "      <td>[deleted]</td>\n",
       "      <td>NaN</td>\n",
       "      <td>dating</td>\n",
       "      <td>/r/dating/comments/av6ya1/the_solution_to_all_...</td>\n",
       "    </tr>\n",
       "    <tr>\n",
       "      <th>3365</th>\n",
       "      <td>[deleted]</td>\n",
       "      <td>NaN</td>\n",
       "      <td>dating</td>\n",
       "      <td>/r/dating/comments/av6k1i/never_dated_in_my_li...</td>\n",
       "    </tr>\n",
       "  </tbody>\n",
       "</table>\n",
       "</div>"
      ],
      "text/plain": [
       "         author selftext subreddit  \\\n",
       "332   [deleted]      NaN    dating   \n",
       "3361  [deleted]      NaN    dating   \n",
       "3365  [deleted]      NaN    dating   \n",
       "\n",
       "                                              permalink  \n",
       "332   /r/dating/comments/b6nwaf/a_girl_i_see_on_a_da...  \n",
       "3361  /r/dating/comments/av6ya1/the_solution_to_all_...  \n",
       "3365  /r/dating/comments/av6k1i/never_dated_in_my_li...  "
      ]
     },
     "execution_count": 15,
     "metadata": {},
     "output_type": "execute_result"
    }
   ],
   "source": [
    "df[df['selftext'].isnull()]"
   ]
  },
  {
   "cell_type": "code",
   "execution_count": 16,
   "metadata": {},
   "outputs": [],
   "source": [
    "df = df[~df['selftext'].isnull()]"
   ]
  },
  {
   "cell_type": "code",
   "execution_count": 17,
   "metadata": {
    "scrolled": true
   },
   "outputs": [
    {
     "data": {
      "text/plain": [
       "(17874, 4)"
      ]
     },
     "execution_count": 17,
     "metadata": {},
     "output_type": "execute_result"
    }
   ],
   "source": [
    "df.shape"
   ]
  },
  {
   "cell_type": "markdown",
   "metadata": {},
   "source": [
    "There are a total of 17,874 posts from both dating and relationship advice subreddits."
   ]
  },
  {
   "cell_type": "code",
   "execution_count": 18,
   "metadata": {},
   "outputs": [
    {
     "data": {
      "text/plain": [
       "relationship_advice    9738\n",
       "dating                 8136\n",
       "Name: subreddit, dtype: int64"
      ]
     },
     "execution_count": 18,
     "metadata": {},
     "output_type": "execute_result"
    }
   ],
   "source": [
    "df.subreddit.value_counts()"
   ]
  },
  {
   "cell_type": "markdown",
   "metadata": {},
   "source": [
    "Creating a new column that will indicate whether a post is from `dating` (1) or `relationship_advice` (0)."
   ]
  },
  {
   "cell_type": "code",
   "execution_count": 19,
   "metadata": {},
   "outputs": [],
   "source": [
    "df['dating'] = df['subreddit'].map({'dating':1, 'relationship_advice':0})\n",
    "df.reset_index(drop=True, inplace=True)"
   ]
  },
  {
   "cell_type": "code",
   "execution_count": 20,
   "metadata": {},
   "outputs": [
    {
     "data": {
      "text/html": [
       "<div>\n",
       "<style scoped>\n",
       "    .dataframe tbody tr th:only-of-type {\n",
       "        vertical-align: middle;\n",
       "    }\n",
       "\n",
       "    .dataframe tbody tr th {\n",
       "        vertical-align: top;\n",
       "    }\n",
       "\n",
       "    .dataframe thead th {\n",
       "        text-align: right;\n",
       "    }\n",
       "</style>\n",
       "<table border=\"1\" class=\"dataframe\">\n",
       "  <thead>\n",
       "    <tr style=\"text-align: right;\">\n",
       "      <th></th>\n",
       "      <th>author</th>\n",
       "      <th>selftext</th>\n",
       "      <th>subreddit</th>\n",
       "      <th>permalink</th>\n",
       "      <th>dating</th>\n",
       "    </tr>\n",
       "  </thead>\n",
       "  <tbody>\n",
       "    <tr>\n",
       "      <th>0</th>\n",
       "      <td>Illumnyx</td>\n",
       "      <td>Last weekend I went on a lunch date for the fi...</td>\n",
       "      <td>dating</td>\n",
       "      <td>/r/dating/comments/b7yhwo/first_date_in_a_whil...</td>\n",
       "      <td>1</td>\n",
       "    </tr>\n",
       "    <tr>\n",
       "      <th>1</th>\n",
       "      <td>whitewoods</td>\n",
       "      <td>I’ve been friends with a girl from my high sch...</td>\n",
       "      <td>dating</td>\n",
       "      <td>/r/dating/comments/b7y2t4/fearing_rejection/</td>\n",
       "      <td>1</td>\n",
       "    </tr>\n",
       "    <tr>\n",
       "      <th>2</th>\n",
       "      <td>rebeccazone</td>\n",
       "      <td>I bumped into a lady I used to know casually a...</td>\n",
       "      <td>dating</td>\n",
       "      <td>/r/dating/comments/b7y20k/got_stood_up_by_an_o...</td>\n",
       "      <td>1</td>\n",
       "    </tr>\n",
       "    <tr>\n",
       "      <th>3</th>\n",
       "      <td>iiDaddy_Jj</td>\n",
       "      <td>Okay so this girl i have history with has done...</td>\n",
       "      <td>dating</td>\n",
       "      <td>/r/dating/comments/b7xzn2/is_being_stubborn_to...</td>\n",
       "      <td>1</td>\n",
       "    </tr>\n",
       "    <tr>\n",
       "      <th>4</th>\n",
       "      <td>eelikay</td>\n",
       "      <td>I can't tell if my standards for looks/body an...</td>\n",
       "      <td>dating</td>\n",
       "      <td>/r/dating/comments/b7xwbp/what_to_do_if_the_in...</td>\n",
       "      <td>1</td>\n",
       "    </tr>\n",
       "  </tbody>\n",
       "</table>\n",
       "</div>"
      ],
      "text/plain": [
       "        author                                           selftext subreddit  \\\n",
       "0     Illumnyx  Last weekend I went on a lunch date for the fi...    dating   \n",
       "1   whitewoods  I’ve been friends with a girl from my high sch...    dating   \n",
       "2  rebeccazone  I bumped into a lady I used to know casually a...    dating   \n",
       "3   iiDaddy_Jj  Okay so this girl i have history with has done...    dating   \n",
       "4      eelikay  I can't tell if my standards for looks/body an...    dating   \n",
       "\n",
       "                                           permalink  dating  \n",
       "0  /r/dating/comments/b7yhwo/first_date_in_a_whil...       1  \n",
       "1       /r/dating/comments/b7y2t4/fearing_rejection/       1  \n",
       "2  /r/dating/comments/b7y20k/got_stood_up_by_an_o...       1  \n",
       "3  /r/dating/comments/b7xzn2/is_being_stubborn_to...       1  \n",
       "4  /r/dating/comments/b7xwbp/what_to_do_if_the_in...       1  "
      ]
     },
     "execution_count": 20,
     "metadata": {},
     "output_type": "execute_result"
    }
   ],
   "source": [
    "df.head()"
   ]
  },
  {
   "cell_type": "markdown",
   "metadata": {},
   "source": [
    "In order to run natural language processing, I will remove the following:\n",
    "1. Line breaks\n",
    "2. Apostrophes\n",
    "3. All Punctuation\n",
    "4. Xa0\n",
    "5. New line breaks\n",
    "6. Mentions of any subreddit\n",
    "7. Only keeping letters"
   ]
  },
  {
   "cell_type": "code",
   "execution_count": 21,
   "metadata": {},
   "outputs": [],
   "source": [
    "df['selftext'] = df['selftext'].map(lambda x: re.sub('\\/\\/', ' ', x)) # Removing line breaks\n",
    "df['selftext'] = df['selftext'].map(lambda x: re.sub('[\\\\][\\']', '', x)) # Removing apostrophes\n",
    "df['selftext'] = df['selftext'].map(lambda x: re.sub('[^\\w\\s]', ' ', x)) # Removing all punctuation \n",
    "df['selftext'] = df['selftext'].map(lambda x: re.sub('\\xa0', ' ', x)) # removing xa0\n",
    "df['selftext'] = df['selftext'].map(lambda x: re.sub('\\n', ' ', x)) # removing line break\n",
    "df['selftext'] = df['selftext'].map(lambda x: re.sub('\\s[\\/]?r\\/[^\\s]+', ' ', x)) # removing mentions of any subreddit\n",
    "df['selftext'] = df['selftext'].map(lambda x: re.sub('http[s]?:\\/\\/[^\\s]*', ' ', x)) # removing urls\n",
    "df['selftext'] = df['selftext'].map(lambda x: re.sub(\"[^a-zA-Z]\", \" \", x)) # Only keeping letters"
   ]
  },
  {
   "cell_type": "code",
   "execution_count": 22,
   "metadata": {},
   "outputs": [
    {
     "data": {
      "text/html": [
       "<div>\n",
       "<style scoped>\n",
       "    .dataframe tbody tr th:only-of-type {\n",
       "        vertical-align: middle;\n",
       "    }\n",
       "\n",
       "    .dataframe tbody tr th {\n",
       "        vertical-align: top;\n",
       "    }\n",
       "\n",
       "    .dataframe thead th {\n",
       "        text-align: right;\n",
       "    }\n",
       "</style>\n",
       "<table border=\"1\" class=\"dataframe\">\n",
       "  <thead>\n",
       "    <tr style=\"text-align: right;\">\n",
       "      <th></th>\n",
       "      <th>author</th>\n",
       "      <th>selftext</th>\n",
       "      <th>subreddit</th>\n",
       "      <th>permalink</th>\n",
       "      <th>dating</th>\n",
       "    </tr>\n",
       "  </thead>\n",
       "  <tbody>\n",
       "    <tr>\n",
       "      <th>0</th>\n",
       "      <td>Illumnyx</td>\n",
       "      <td>Last weekend I went on a lunch date for the fi...</td>\n",
       "      <td>dating</td>\n",
       "      <td>/r/dating/comments/b7yhwo/first_date_in_a_whil...</td>\n",
       "      <td>1</td>\n",
       "    </tr>\n",
       "    <tr>\n",
       "      <th>1</th>\n",
       "      <td>whitewoods</td>\n",
       "      <td>I ve been friends with a girl from my high sch...</td>\n",
       "      <td>dating</td>\n",
       "      <td>/r/dating/comments/b7y2t4/fearing_rejection/</td>\n",
       "      <td>1</td>\n",
       "    </tr>\n",
       "    <tr>\n",
       "      <th>2</th>\n",
       "      <td>rebeccazone</td>\n",
       "      <td>I bumped into a lady I used to know casually a...</td>\n",
       "      <td>dating</td>\n",
       "      <td>/r/dating/comments/b7y20k/got_stood_up_by_an_o...</td>\n",
       "      <td>1</td>\n",
       "    </tr>\n",
       "    <tr>\n",
       "      <th>3</th>\n",
       "      <td>iiDaddy_Jj</td>\n",
       "      <td>Okay so this girl i have history with has done...</td>\n",
       "      <td>dating</td>\n",
       "      <td>/r/dating/comments/b7xzn2/is_being_stubborn_to...</td>\n",
       "      <td>1</td>\n",
       "    </tr>\n",
       "    <tr>\n",
       "      <th>4</th>\n",
       "      <td>eelikay</td>\n",
       "      <td>I cant tell if my standards for looks body and...</td>\n",
       "      <td>dating</td>\n",
       "      <td>/r/dating/comments/b7xwbp/what_to_do_if_the_in...</td>\n",
       "      <td>1</td>\n",
       "    </tr>\n",
       "  </tbody>\n",
       "</table>\n",
       "</div>"
      ],
      "text/plain": [
       "        author                                           selftext subreddit  \\\n",
       "0     Illumnyx  Last weekend I went on a lunch date for the fi...    dating   \n",
       "1   whitewoods  I ve been friends with a girl from my high sch...    dating   \n",
       "2  rebeccazone  I bumped into a lady I used to know casually a...    dating   \n",
       "3   iiDaddy_Jj  Okay so this girl i have history with has done...    dating   \n",
       "4      eelikay  I cant tell if my standards for looks body and...    dating   \n",
       "\n",
       "                                           permalink  dating  \n",
       "0  /r/dating/comments/b7yhwo/first_date_in_a_whil...       1  \n",
       "1       /r/dating/comments/b7y2t4/fearing_rejection/       1  \n",
       "2  /r/dating/comments/b7y20k/got_stood_up_by_an_o...       1  \n",
       "3  /r/dating/comments/b7xzn2/is_being_stubborn_to...       1  \n",
       "4  /r/dating/comments/b7xwbp/what_to_do_if_the_in...       1  "
      ]
     },
     "execution_count": 22,
     "metadata": {},
     "output_type": "execute_result"
    }
   ],
   "source": [
    "df.head()"
   ]
  },
  {
   "cell_type": "markdown",
   "metadata": {},
   "source": [
    "I will check if the texts are cleaned up."
   ]
  },
  {
   "cell_type": "code",
   "execution_count": 23,
   "metadata": {
    "scrolled": true
   },
   "outputs": [
    {
     "data": {
      "text/plain": [
       "'Last weekend I went on a lunch date for the first time in a while with someone I met on a dating app  Was awkward at first  first time meeting so thats natural  but once we settled in we had decent discussion    As it went on though  I felt increasingly tense and uncomfortable at some of the stuff they were saying  like  it just didnt sit right with how I view things   They also kept knocking my feet under the table   not sure if that was intentional or not  The conversations seemed pretty one sided in the sense that I seemed to be talking a lot about myself without them really reciprocating  They also ordered a lot of food and only ended up eating half  Didnt even take it in a container when offered  that kind of wastefulness really ticks me off    After an hour  I was really telling myself to start making moves to leave as I was that tense  We eventually did and ended up splitting the bill  I offered as the girl behind the counter was getting confused by her account of what we both ordered   We partedsomewhat awkwardly and I left home with an overall negative impression  A few hours later I get a text saying they got a positive impression of the date  I responded that it was a nice lunch and that Im glad they enjoyed it   Now Im kinda stuck in a  I really dont want to hurt this persons feelings  but also dont want to lead them on  kind of situation  Which is odd because historically  these roles have been reversed for me   I mostly came here to vent  but any constructive advice on what I can do could have done better is always welcome  '"
      ]
     },
     "execution_count": 23,
     "metadata": {},
     "output_type": "execute_result"
    }
   ],
   "source": [
    "df['selftext'][0]"
   ]
  },
  {
   "cell_type": "code",
   "execution_count": 25,
   "metadata": {},
   "outputs": [],
   "source": [
    "df = df[df['selftext'] != '']"
   ]
  },
  {
   "cell_type": "markdown",
   "metadata": {},
   "source": [
    "Shuffling the rows in the dataframe for future training and testing datasets."
   ]
  },
  {
   "cell_type": "code",
   "execution_count": 26,
   "metadata": {},
   "outputs": [],
   "source": [
    "df = df.sample(n=len(df), replace = False).reset_index(drop=True)"
   ]
  },
  {
   "cell_type": "code",
   "execution_count": 27,
   "metadata": {},
   "outputs": [],
   "source": [
    "df.to_csv('../data/df.csv', index = False)"
   ]
  },
  {
   "cell_type": "markdown",
   "metadata": {},
   "source": [
    "# Please go to Notebook 2: Exploratory Data Analysis"
   ]
  }
 ],
 "metadata": {
  "kernelspec": {
   "display_name": "Python 3",
   "language": "python",
   "name": "python3"
  },
  "language_info": {
   "codemirror_mode": {
    "name": "ipython",
    "version": 3
   },
   "file_extension": ".py",
   "mimetype": "text/x-python",
   "name": "python",
   "nbconvert_exporter": "python",
   "pygments_lexer": "ipython3",
   "version": "3.6.8"
  }
 },
 "nbformat": 4,
 "nbformat_minor": 2
}
