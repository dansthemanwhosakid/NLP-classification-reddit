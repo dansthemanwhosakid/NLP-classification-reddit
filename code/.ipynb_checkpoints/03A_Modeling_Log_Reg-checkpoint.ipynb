{
 "cells": [
  {
   "cell_type": "markdown",
   "metadata": {},
   "source": [
    "# Project 3: Reddit NLP - Logistic Regression Classifier"
   ]
  },
  {
   "cell_type": "code",
   "execution_count": 56,
   "metadata": {},
   "outputs": [],
   "source": [
    "import pickle\n",
    "import pandas as pd\n",
    "import numpy as np\n",
    "import matplotlib.pyplot as plt\n",
    "import math\n",
    "from sklearn.model_selection import train_test_split, GridSearchCV\n",
    "from sklearn.linear_model import LogisticRegression\n",
    "from sklearn.feature_extraction.text import CountVectorizer\n",
    "from sklearn.pipeline import Pipeline\n",
    "from sklearn.metrics import confusion_matrix\n",
    "from sklearn.metrics import roc_auc_score\n",
    "\n",
    "import warnings\n",
    "warnings.simplefilter(action='ignore', category=FutureWarning)\n",
    "\n",
    "# I really like this color, so it will be used for everything\n",
    "DO = '#7D1B7E'\n",
    "\n",
    "%matplotlib inline\n",
    "plt.style.use('fivethirtyeight')"
   ]
  },
  {
   "cell_type": "markdown",
   "metadata": {},
   "source": [
    "I am now going to attempt to classify the subreddit posts by utilizing a count vectorizer along with a logistic regression model.\n",
    "\n",
    "Based on the dataframe's `selftext` column, the logistic model will return a predicted value between 0 and 1 that indicates the percentage likelihood of whether a particular submission is from the dating subreddit. "
   ]
  },
  {
   "cell_type": "code",
   "execution_count": 2,
   "metadata": {},
   "outputs": [],
   "source": [
    "with open('../assets/df.pkl','rb') as f:\n",
    "    df = pickle.load(f)"
   ]
  },
  {
   "cell_type": "code",
   "execution_count": 3,
   "metadata": {},
   "outputs": [
    {
     "data": {
      "text/html": [
       "<div>\n",
       "<style scoped>\n",
       "    .dataframe tbody tr th:only-of-type {\n",
       "        vertical-align: middle;\n",
       "    }\n",
       "\n",
       "    .dataframe tbody tr th {\n",
       "        vertical-align: top;\n",
       "    }\n",
       "\n",
       "    .dataframe thead th {\n",
       "        text-align: right;\n",
       "    }\n",
       "</style>\n",
       "<table border=\"1\" class=\"dataframe\">\n",
       "  <thead>\n",
       "    <tr style=\"text-align: right;\">\n",
       "      <th></th>\n",
       "      <th>selftext</th>\n",
       "      <th>subreddit</th>\n",
       "      <th>dating</th>\n",
       "      <th>token</th>\n",
       "      <th>word_count</th>\n",
       "      <th>char_count</th>\n",
       "      <th>clean_token</th>\n",
       "    </tr>\n",
       "  </thead>\n",
       "  <tbody>\n",
       "    <tr>\n",
       "      <th>0</th>\n",
       "      <td>The beginning   We have been in a monogamous r...</td>\n",
       "      <td>relationship_advice</td>\n",
       "      <td>0</td>\n",
       "      <td>[beginning, we, monogamous, relationship, year...</td>\n",
       "      <td>1019</td>\n",
       "      <td>8921</td>\n",
       "      <td>beginning we monogamous relationship year shy ...</td>\n",
       "    </tr>\n",
       "    <tr>\n",
       "      <th>1</th>\n",
       "      <td>We have been together   months  It was a norma...</td>\n",
       "      <td>relationship_advice</td>\n",
       "      <td>0</td>\n",
       "      <td>[we, together, months, normal, night, she, got...</td>\n",
       "      <td>97</td>\n",
       "      <td>777</td>\n",
       "      <td>we together months normal night she got shower...</td>\n",
       "    </tr>\n",
       "    <tr>\n",
       "      <th>2</th>\n",
       "      <td>Im a    year old college student  never been o...</td>\n",
       "      <td>dating</td>\n",
       "      <td>1</td>\n",
       "      <td>[im, year, old, college, student, never, date,...</td>\n",
       "      <td>51</td>\n",
       "      <td>461</td>\n",
       "      <td>im year old college student never date done an...</td>\n",
       "    </tr>\n",
       "    <tr>\n",
       "      <th>3</th>\n",
       "      <td>Gf and I both     been dating for   months and...</td>\n",
       "      <td>relationship_advice</td>\n",
       "      <td>0</td>\n",
       "      <td>[gf, i, dating, months, weve, pretty, good, re...</td>\n",
       "      <td>193</td>\n",
       "      <td>1797</td>\n",
       "      <td>gf i dating months weve pretty good relationsh...</td>\n",
       "    </tr>\n",
       "    <tr>\n",
       "      <th>4</th>\n",
       "      <td>Ok  some background  Bf and I have been togeth...</td>\n",
       "      <td>relationship_advice</td>\n",
       "      <td>0</td>\n",
       "      <td>[ok, background, bf, i, together, years, short...</td>\n",
       "      <td>168</td>\n",
       "      <td>1360</td>\n",
       "      <td>ok background bf i together years shortly we f...</td>\n",
       "    </tr>\n",
       "  </tbody>\n",
       "</table>\n",
       "</div>"
      ],
      "text/plain": [
       "                                            selftext            subreddit  \\\n",
       "0  The beginning   We have been in a monogamous r...  relationship_advice   \n",
       "1  We have been together   months  It was a norma...  relationship_advice   \n",
       "2  Im a    year old college student  never been o...               dating   \n",
       "3  Gf and I both     been dating for   months and...  relationship_advice   \n",
       "4  Ok  some background  Bf and I have been togeth...  relationship_advice   \n",
       "\n",
       "   dating                                              token  word_count  \\\n",
       "0       0  [beginning, we, monogamous, relationship, year...        1019   \n",
       "1       0  [we, together, months, normal, night, she, got...          97   \n",
       "2       1  [im, year, old, college, student, never, date,...          51   \n",
       "3       0  [gf, i, dating, months, weve, pretty, good, re...         193   \n",
       "4       0  [ok, background, bf, i, together, years, short...         168   \n",
       "\n",
       "   char_count                                        clean_token  \n",
       "0        8921  beginning we monogamous relationship year shy ...  \n",
       "1         777  we together months normal night she got shower...  \n",
       "2         461  im year old college student never date done an...  \n",
       "3        1797  gf i dating months weve pretty good relationsh...  \n",
       "4        1360  ok background bf i together years shortly we f...  "
      ]
     },
     "execution_count": 3,
     "metadata": {},
     "output_type": "execute_result"
    }
   ],
   "source": [
    "df.head()"
   ]
  },
  {
   "cell_type": "markdown",
   "metadata": {},
   "source": [
    "## Baseline Model\n",
    "\n",
    "The most basic baseline model in order to illustrate binary classification is by observing the accuracy - which in this case is based on the percentages of how many posts are from either subreddit."
   ]
  },
  {
   "cell_type": "code",
   "execution_count": 4,
   "metadata": {},
   "outputs": [
    {
     "data": {
      "text/plain": [
       "0    0.542474\n",
       "1    0.457526\n",
       "Name: dating, dtype: float64"
      ]
     },
     "execution_count": 4,
     "metadata": {},
     "output_type": "execute_result"
    }
   ],
   "source": [
    "df['dating'].value_counts(normalize = True)"
   ]
  },
  {
   "cell_type": "code",
   "execution_count": 5,
   "metadata": {},
   "outputs": [
    {
     "data": {
      "text/plain": [
       "0.5424743443557583"
      ]
     },
     "execution_count": 5,
     "metadata": {},
     "output_type": "execute_result"
    }
   ],
   "source": [
    "max(np.mean(df['dating']), 1 - np.mean(df['dating']))"
   ]
  },
  {
   "cell_type": "markdown",
   "metadata": {},
   "source": [
    "As a result, our baseline model accuracy is **54%**. That means we have a 54% chance by correctly guessing whether a submission is from the dating subreddit or not."
   ]
  },
  {
   "cell_type": "markdown",
   "metadata": {},
   "source": [
    "## Count Vectorizer\n",
    "\n",
    "The count vectorizer has been used before in the exploratory data analysis portion because it examines a corpus, which is a collection of documents, and returns a vectorized array of the most prominent words and the count of those words accross each document. It is a necessary step in order to create an array for classification, because we cannot \n",
    "simply stick in words of text into a logistic regression classifier.\n"
   ]
  },
  {
   "cell_type": "code",
   "execution_count": 6,
   "metadata": {},
   "outputs": [],
   "source": [
    "X = df['selftext']\n",
    "y = df['dating']"
   ]
  },
  {
   "cell_type": "markdown",
   "metadata": {},
   "source": [
    "A train test split will be utilized to train the model and see how the model performs with 'unseen' (test) inputs."
   ]
  },
  {
   "cell_type": "code",
   "execution_count": 7,
   "metadata": {},
   "outputs": [],
   "source": [
    "X_train, X_test, y_train, y_test = train_test_split(X,y, stratify = y, train_size = 0.7, random_state = 42)"
   ]
  },
  {
   "cell_type": "markdown",
   "metadata": {},
   "source": [
    "I will be using my own customized stop_words list from the second notebook."
   ]
  },
  {
   "cell_type": "code",
   "execution_count": 8,
   "metadata": {},
   "outputs": [],
   "source": [
    "with open('../assets/stop_words.pkl','rb') as f:\n",
    "    stop_words = pickle.load(f)"
   ]
  },
  {
   "cell_type": "markdown",
   "metadata": {},
   "source": [
    "The following code instantiates the `CountVectorizer` and is choosing the top 5000 max feature words. "
   ]
  },
  {
   "cell_type": "code",
   "execution_count": 9,
   "metadata": {},
   "outputs": [],
   "source": [
    "cvec = CountVectorizer(analyzer = \"word\",\n",
    "                             stop_words = stop_words,\n",
    "                             max_features = 5000)"
   ]
  },
  {
   "cell_type": "markdown",
   "metadata": {},
   "source": [
    "The count vectorizer fits and transforms to the training dataset to gather data about its vocabulary across the documents. It then transforms the test dataset."
   ]
  },
  {
   "cell_type": "code",
   "execution_count": 10,
   "metadata": {},
   "outputs": [],
   "source": [
    "X_train_cvec = cvec.fit_transform(X_train)\n",
    "X_test_cvec = cvec.transform(X_test)"
   ]
  },
  {
   "cell_type": "markdown",
   "metadata": {},
   "source": [
    "The list of the top 5000 feature words are in the vocab variable below:"
   ]
  },
  {
   "cell_type": "code",
   "execution_count": 11,
   "metadata": {},
   "outputs": [],
   "source": [
    "vocab = cvec.get_feature_names()"
   ]
  },
  {
   "cell_type": "code",
   "execution_count": 12,
   "metadata": {
    "scrolled": true
   },
   "outputs": [],
   "source": [
    "cvec_df = pd.DataFrame(X_train_cvec.toarray(), columns = vocab)"
   ]
  },
  {
   "cell_type": "markdown",
   "metadata": {},
   "source": [
    "Creating dataframes for both the training and testing data"
   ]
  },
  {
   "cell_type": "code",
   "execution_count": 13,
   "metadata": {},
   "outputs": [],
   "source": [
    "train_df = pd.DataFrame(X_train_cvec.todense(), columns = vocab)\n",
    "test_df = pd.DataFrame(X_test_cvec.todense(), columns = vocab)"
   ]
  },
  {
   "cell_type": "markdown",
   "metadata": {},
   "source": [
    "## Logistic Regression Classifier\n",
    "\n",
    "I will now instantiate the logistic regression."
   ]
  },
  {
   "cell_type": "code",
   "execution_count": 14,
   "metadata": {},
   "outputs": [],
   "source": [
    "lr = LogisticRegression()"
   ]
  },
  {
   "cell_type": "code",
   "execution_count": 15,
   "metadata": {},
   "outputs": [],
   "source": [
    "lr.fit(train_df, y_train);"
   ]
  },
  {
   "cell_type": "code",
   "execution_count": 16,
   "metadata": {},
   "outputs": [
    {
     "name": "stdout",
     "output_type": "stream",
     "text": [
      "Train Accuracy: 0.94\n"
     ]
    }
   ],
   "source": [
    "# train score\n",
    "train_accuracy = lr.score(train_df, y_train)\n",
    "print(f'Train Accuracy: {round(train_accuracy,2)}')"
   ]
  },
  {
   "cell_type": "code",
   "execution_count": 17,
   "metadata": {},
   "outputs": [
    {
     "name": "stdout",
     "output_type": "stream",
     "text": [
      "Test Accuracy: 0.78\n"
     ]
    }
   ],
   "source": [
    "# test score\n",
    "test_accuracy = lr.score(test_df, y_test)\n",
    "print(f'Test Accuracy: {round(test_accuracy,2)}')"
   ]
  },
  {
   "cell_type": "markdown",
   "metadata": {},
   "source": [
    "Based on the initial count vectorizer parameters, the train accuracy percentage, which is the likelihood of correct predictions that a post is from the dating subreddit, is 94%. The test accuracy is 78%. Based on the larger train accuracy and low test accuracy, the model suffers from overfitting, which means there is high variance. "
   ]
  },
  {
   "cell_type": "markdown",
   "metadata": {},
   "source": [
    "## Logistic Regression Classifier w/ GridSearchCV\n",
    "\n",
    "I will now run the logistic regression with a pipeline and gridsearch which allows the model to experiment with different count vectorizer parameters, such as the number of max features and the ngram range pairings. Basically, the gridsearchCV will run different combinations of parameters and return the best parameters based on the optimal accuracy score it returns.\n",
    "\n",
    "The ngram_range is a string of n words in a row. For example, with a string \"Hello, I am Jim Bob\", an ngram_range(1,1) will capture every individual word. Whereas an ngram_range(1,2) will grab every individual word as well as a pair of words. This is particularly useful in case of capturing negation pairs such as \"not good\".\n",
    "\n",
    "The logistic regression penalty can either be a lasso regularization (l1) or a ridge regularization (l2). A lasso regularization is more severe than the ridge regularization because it 'zeroes' out unimportant features (aka words) whereas a ridge regularization reduces the unimportant features' coefficients. \n",
    "\n",
    "The logistic C is a regularization hyperparameter. The smaller it is, the stronger the regularization. \n",
    "\n",
    "The model will also be cross validated 3 times which means it will fit and transform to different, but evenly portioned, sections of the training data and return the mean."
   ]
  },
  {
   "cell_type": "code",
   "execution_count": 18,
   "metadata": {},
   "outputs": [],
   "source": [
    "pipe = Pipeline([\n",
    "\n",
    "    ('cvec', CountVectorizer(analyzer = 'word', stop_words = stop_words)),\n",
    "    ('lr', LogisticRegression())\n",
    "    \n",
    "])"
   ]
  },
  {
   "cell_type": "code",
   "execution_count": 19,
   "metadata": {},
   "outputs": [],
   "source": [
    "parameters = {\n",
    "    'cvec__max_features': [500,1000,1500,2000, 5000],\n",
    "    'cvec__ngram_range' : [(1, 1), (1,2), (2,2)],\n",
    "    'lr__penalty' : ['l1','l2'],\n",
    "    'lr__C' : [0.001, 0.01, 0.1, 1, 10, 100, 1000]\n",
    "}"
   ]
  },
  {
   "cell_type": "code",
   "execution_count": 20,
   "metadata": {},
   "outputs": [],
   "source": [
    "gs = GridSearchCV(pipe, param_grid = parameters, cv = 3)"
   ]
  },
  {
   "cell_type": "code",
   "execution_count": 21,
   "metadata": {},
   "outputs": [],
   "source": [
    "gs.fit(X_train, y_train);"
   ]
  },
  {
   "cell_type": "code",
   "execution_count": 22,
   "metadata": {},
   "outputs": [
    {
     "data": {
      "text/plain": [
       "{'cvec__max_features': 5000,\n",
       " 'cvec__ngram_range': (1, 2),\n",
       " 'lr__C': 0.01,\n",
       " 'lr__penalty': 'l2'}"
      ]
     },
     "execution_count": 22,
     "metadata": {},
     "output_type": "execute_result"
    }
   ],
   "source": [
    "gs.best_params_"
   ]
  },
  {
   "cell_type": "code",
   "execution_count": 23,
   "metadata": {},
   "outputs": [
    {
     "name": "stdout",
     "output_type": "stream",
     "text": [
      "Train Accuracy: 0.87\n"
     ]
    }
   ],
   "source": [
    "gs_train_accuracy = round(gs.score(X_train, y_train),2)\n",
    "print(f'Train Accuracy: {gs_train_accuracy}')"
   ]
  },
  {
   "cell_type": "code",
   "execution_count": 24,
   "metadata": {},
   "outputs": [
    {
     "name": "stdout",
     "output_type": "stream",
     "text": [
      "Test Accuracy: 0.82\n"
     ]
    }
   ],
   "source": [
    "gs_test_accuracy = round(gs.score(X_test, y_test),2)\n",
    "print(f'Test Accuracy: {gs_test_accuracy}')"
   ]
  },
  {
   "cell_type": "markdown",
   "metadata": {},
   "source": [
    "Based on our grid search logistic regression model, it selected 500 to be the best max feature, 1 and 2 grams as the best ngram_range, ridge regression, and a strong C hyperparameter. As a result, the model has a lower variance and is hardly overfit. There is also a slight increase (4%) in the test accuracy, which is a slight improvement."
   ]
  },
  {
   "cell_type": "markdown",
   "metadata": {},
   "source": [
    "## Results - Coefficient Weights\n",
    "\n",
    "I am now going to explore which words are the most important in determining whether a post is from the dating subreddit or not."
   ]
  },
  {
   "cell_type": "markdown",
   "metadata": {},
   "source": [
    "Obtaining the logistic regression beta coefficients:"
   ]
  },
  {
   "cell_type": "code",
   "execution_count": 25,
   "metadata": {},
   "outputs": [],
   "source": [
    "beta = gs.best_estimator_.named_steps['lr'].coef_"
   ]
  },
  {
   "cell_type": "markdown",
   "metadata": {},
   "source": [
    "Grabbing the top feature names and storing it as `vocab`."
   ]
  },
  {
   "cell_type": "code",
   "execution_count": 26,
   "metadata": {},
   "outputs": [],
   "source": [
    "vocab = gs.best_estimator_.named_steps['cvec'].get_feature_names()"
   ]
  },
  {
   "cell_type": "markdown",
   "metadata": {},
   "source": [
    "Creating a beta coefficient dataframe, and calculating the log odds of each coefficient for interpretability."
   ]
  },
  {
   "cell_type": "code",
   "execution_count": 27,
   "metadata": {},
   "outputs": [],
   "source": [
    "beta_df = pd.DataFrame( {'top_words': vocab, 'Beta' :beta[0]})"
   ]
  },
  {
   "cell_type": "code",
   "execution_count": 28,
   "metadata": {},
   "outputs": [],
   "source": [
    "beta_df['log_odds'] = beta_df['Beta'].map(lambda x: math.exp(x))"
   ]
  },
  {
   "cell_type": "code",
   "execution_count": 29,
   "metadata": {},
   "outputs": [],
   "source": [
    "beta_df = beta_df.set_index('top_words')\n",
    "beta_df = beta_df.sort_values('log_odds',ascending = False)"
   ]
  },
  {
   "cell_type": "code",
   "execution_count": 30,
   "metadata": {},
   "outputs": [
    {
     "data": {
      "text/html": [
       "<div>\n",
       "<style scoped>\n",
       "    .dataframe tbody tr th:only-of-type {\n",
       "        vertical-align: middle;\n",
       "    }\n",
       "\n",
       "    .dataframe tbody tr th {\n",
       "        vertical-align: top;\n",
       "    }\n",
       "\n",
       "    .dataframe thead th {\n",
       "        text-align: right;\n",
       "    }\n",
       "</style>\n",
       "<table border=\"1\" class=\"dataframe\">\n",
       "  <thead>\n",
       "    <tr style=\"text-align: right;\">\n",
       "      <th></th>\n",
       "      <th>Beta</th>\n",
       "      <th>log_odds</th>\n",
       "    </tr>\n",
       "    <tr>\n",
       "      <th>top_words</th>\n",
       "      <th></th>\n",
       "      <th></th>\n",
       "    </tr>\n",
       "  </thead>\n",
       "  <tbody>\n",
       "    <tr>\n",
       "      <th>date</th>\n",
       "      <td>0.418628</td>\n",
       "      <td>1.519875</td>\n",
       "    </tr>\n",
       "    <tr>\n",
       "      <th>dating</th>\n",
       "      <td>0.415089</td>\n",
       "      <td>1.514506</td>\n",
       "    </tr>\n",
       "    <tr>\n",
       "      <th>dates</th>\n",
       "      <td>0.399684</td>\n",
       "      <td>1.491353</td>\n",
       "    </tr>\n",
       "    <tr>\n",
       "      <th>christmas</th>\n",
       "      <td>0.298580</td>\n",
       "      <td>1.347943</td>\n",
       "    </tr>\n",
       "    <tr>\n",
       "      <th>women</th>\n",
       "      <td>0.266487</td>\n",
       "      <td>1.305370</td>\n",
       "    </tr>\n",
       "    <tr>\n",
       "      <th>met</th>\n",
       "      <td>0.241987</td>\n",
       "      <td>1.273777</td>\n",
       "    </tr>\n",
       "    <tr>\n",
       "      <th>place</th>\n",
       "      <td>0.232983</td>\n",
       "      <td>1.262360</td>\n",
       "    </tr>\n",
       "    <tr>\n",
       "      <th>guy</th>\n",
       "      <td>0.225393</td>\n",
       "      <td>1.252815</td>\n",
       "    </tr>\n",
       "    <tr>\n",
       "      <th>interested</th>\n",
       "      <td>0.208110</td>\n",
       "      <td>1.231349</td>\n",
       "    </tr>\n",
       "    <tr>\n",
       "      <th>guys</th>\n",
       "      <td>0.205781</td>\n",
       "      <td>1.228484</td>\n",
       "    </tr>\n",
       "  </tbody>\n",
       "</table>\n",
       "</div>"
      ],
      "text/plain": [
       "                Beta  log_odds\n",
       "top_words                     \n",
       "date        0.418628  1.519875\n",
       "dating      0.415089  1.514506\n",
       "dates       0.399684  1.491353\n",
       "christmas   0.298580  1.347943\n",
       "women       0.266487  1.305370\n",
       "met         0.241987  1.273777\n",
       "place       0.232983  1.262360\n",
       "guy         0.225393  1.252815\n",
       "interested  0.208110  1.231349\n",
       "guys        0.205781  1.228484"
      ]
     },
     "execution_count": 30,
     "metadata": {},
     "output_type": "execute_result"
    }
   ],
   "source": [
    "beta_df.head(10)"
   ]
  },
  {
   "cell_type": "code",
   "execution_count": 68,
   "metadata": {
    "scrolled": false
   },
   "outputs": [
    {
     "data": {
      "image/png": "[encoded data removed]",
      "text/plain": [
       "<Figure size 1440x720 with 1 Axes>"
      ]
     },
     "metadata": {},
     "output_type": "display_data"
    }
   ],
   "source": [
    "weights = beta_df['log_odds'].head(20).sort_values()\n",
    "labels = weights.index\n",
    "\n",
    "plt.figure(figsize=(20,10))\n",
    "plt.barh(labels, weights, color = DO)\n",
    "plt.yticks(fontsize=20)\n",
    "plt.xticks(fontsize=20)\n",
    "plt.xlabel('Log Odds', fontsize=30)\n",
    "plt.title(f'Top 20 Features - Dating', fontsize=42)\n",
    "plt.tight_layout()\n",
    "\n",
    "plt.savefig('../plots/top_feature_log_pres.png')"
   ]
  },
  {
   "cell_type": "markdown",
   "metadata": {},
   "source": [
    "The barplot above depicts the top words that determine the likelihood of whether a submission is from the dating subreddit.\n",
    "\n",
    "For example, every instance when the word `date` is written in the post, the post is **1.52** times as likely to be from the dating subreddit. \n",
    "\n",
    "If the word `interested` is written in the post, the post is **1.23** times as likely to be from the dating subreddit. \n",
    "\n",
    "**Notes:**\n",
    "- I should remove the words `dates`, `date`, and `dating` because the words are too much of a giveaway.\n",
    "- The rest of the top words seems to be aligned with online dating - such as dating `apps`, `tinder` and `bumble` \n",
    "- The demographic may be young as the word `semester` is used, which implies that individuals are currently enrolled in university.\n",
    "- Gender nouns such as `guy`, `girl`, `women`, `woman`, have a large feature importance, but these values might be overinflated - a quick remedy might be implementing **TF-IDF** instead of a Count Vectorizer. "
   ]
  },
  {
   "cell_type": "markdown",
   "metadata": {},
   "source": [
    "I will now examine the top words that determine the likelihood of whether a submission is from the negative class, which is the relationship advice subreddit by pulling the smallest log odds."
   ]
  },
  {
   "cell_type": "code",
   "execution_count": 73,
   "metadata": {
    "scrolled": true
   },
   "outputs": [
    {
     "data": {
      "text/html": [
       "<div>\n",
       "<style scoped>\n",
       "    .dataframe tbody tr th:only-of-type {\n",
       "        vertical-align: middle;\n",
       "    }\n",
       "\n",
       "    .dataframe tbody tr th {\n",
       "        vertical-align: top;\n",
       "    }\n",
       "\n",
       "    .dataframe thead th {\n",
       "        text-align: right;\n",
       "    }\n",
       "</style>\n",
       "<table border=\"1\" class=\"dataframe\">\n",
       "  <thead>\n",
       "    <tr style=\"text-align: right;\">\n",
       "      <th></th>\n",
       "      <th>Beta</th>\n",
       "      <th>log_odds</th>\n",
       "    </tr>\n",
       "    <tr>\n",
       "      <th>top_words</th>\n",
       "      <th></th>\n",
       "      <th></th>\n",
       "    </tr>\n",
       "  </thead>\n",
       "  <tbody>\n",
       "    <tr>\n",
       "      <th>my wife</th>\n",
       "      <td>-0.172441</td>\n",
       "      <td>0.841608</td>\n",
       "    </tr>\n",
       "    <tr>\n",
       "      <th>my bf</th>\n",
       "      <td>-0.178385</td>\n",
       "      <td>0.836620</td>\n",
       "    </tr>\n",
       "    <tr>\n",
       "      <th>husband</th>\n",
       "      <td>-0.182770</td>\n",
       "      <td>0.832960</td>\n",
       "    </tr>\n",
       "    <tr>\n",
       "      <th>cheating</th>\n",
       "      <td>-0.186699</td>\n",
       "      <td>0.829693</td>\n",
       "    </tr>\n",
       "    <tr>\n",
       "      <th>girlfriend</th>\n",
       "      <td>-0.186949</td>\n",
       "      <td>0.829486</td>\n",
       "    </tr>\n",
       "    <tr>\n",
       "      <th>argument</th>\n",
       "      <td>-0.187554</td>\n",
       "      <td>0.828984</td>\n",
       "    </tr>\n",
       "    <tr>\n",
       "      <th>sex</th>\n",
       "      <td>-0.189003</td>\n",
       "      <td>0.827784</td>\n",
       "    </tr>\n",
       "    <tr>\n",
       "      <th>started dating</th>\n",
       "      <td>-0.213533</td>\n",
       "      <td>0.807725</td>\n",
       "    </tr>\n",
       "    <tr>\n",
       "      <th>my girlfriend</th>\n",
       "      <td>-0.228050</td>\n",
       "      <td>0.796085</td>\n",
       "    </tr>\n",
       "    <tr>\n",
       "      <th>my boyfriend</th>\n",
       "      <td>-0.352122</td>\n",
       "      <td>0.703194</td>\n",
       "    </tr>\n",
       "  </tbody>\n",
       "</table>\n",
       "</div>"
      ],
      "text/plain": [
       "                    Beta  log_odds\n",
       "top_words                         \n",
       "my wife        -0.172441  0.841608\n",
       "my bf          -0.178385  0.836620\n",
       "husband        -0.182770  0.832960\n",
       "cheating       -0.186699  0.829693\n",
       "girlfriend     -0.186949  0.829486\n",
       "argument       -0.187554  0.828984\n",
       "sex            -0.189003  0.827784\n",
       "started dating -0.213533  0.807725\n",
       "my girlfriend  -0.228050  0.796085\n",
       "my boyfriend   -0.352122  0.703194"
      ]
     },
     "execution_count": 73,
     "metadata": {},
     "output_type": "execute_result"
    }
   ],
   "source": [
    "beta_df.tail(10)"
   ]
  },
  {
   "cell_type": "code",
   "execution_count": 74,
   "metadata": {},
   "outputs": [
    {
     "data": {
      "image/png": "[encoded data removed]",
      "text/plain": [
       "<Figure size 1440x720 with 1 Axes>"
      ]
     },
     "metadata": {},
     "output_type": "display_data"
    }
   ],
   "source": [
    "weights = beta_df['log_odds'].tail(20).sort_values()\n",
    "labels = weights.index\n",
    "\n",
    "plt.figure(figsize=(20,10))\n",
    "plt.barh(labels, weights, color = DO)\n",
    "plt.yticks(fontsize=20)\n",
    "plt.xticks(fontsize=20)\n",
    "plt.xlabel('Log Odds', fontsize=30)\n",
    "plt.title(f'Top 20 Features - Relationship Advice', fontsize=42)\n",
    "plt.tight_layout()\n",
    "\n",
    "plt.savefig('../plots/top_feature_relationship.png')"
   ]
  },
  {
   "cell_type": "markdown",
   "metadata": {},
   "source": [
    "The barplot reveals that the subject matter appears to be more dire due to the high risk in a fragile committed relationship. 10 out of 20 top features deal with a long term relationship - `'bf'`, `'wife'`, `'my bf'`, `'my wife'` for instance.\n",
    "\n",
    "Furthermore, posters are seeking help because they are in an unfortunate predicament that is indicated by `'hurt'`, `'worried'`, `'help'`, and `'argument'`.\n",
    "\n",
    "The interpretation is as follows:\n",
    "\n",
    "Every instance when the word `hurt` is written in the post, the post is **0.84** as likely to be from the dating subreddit, meaning it is less likely to be from the dating subreddit and more likely to be from the relationship advice subreddit.\n"
   ]
  },
  {
   "cell_type": "code",
   "execution_count": 34,
   "metadata": {},
   "outputs": [],
   "source": [
    "def horrible_haiku(top_word, subreddit, rows = 20):\n",
    "    \n",
    "    # Line counter\n",
    "    line = 0\n",
    "    \n",
    "    if subreddit == 'dating':\n",
    "        \n",
    "        # looks through the dating subreddit token column\n",
    "        for doc in df[df['dating']==1]['token']:\n",
    "            \n",
    "            # looks at each word in the selected token row\n",
    "            for word in range(len(doc)):\n",
    "                \n",
    "                # if word matches the inputted word\n",
    "                if doc[word] == top_word:\n",
    "                    if line < rows:\n",
    "\n",
    "                        try:\n",
    "                            line += 1\n",
    "                            # Prints out the words surrounding the inputted words\n",
    "                            print(f'{doc[word-1]}, {doc[word]}, {doc[word+1]}, {doc[word+2]}, {doc[word+3]}')\n",
    "                        except:\n",
    "                            line -= 1\n",
    "                            # If the words are out of range, then it will skip that row.\n",
    "                            print('Skipped - Words out of Range')\n",
    "                    else:\n",
    "                        break\n",
    "                        \n",
    "    elif subreddit == 'relationship_advice':\n",
    "        for doc in df[df['dating']==0]['token']:\n",
    "            for word in range(len(doc)):\n",
    "                if doc[word] == top_word:\n",
    "                    if line < rows:\n",
    "                        try:\n",
    "                            line += 1\n",
    "                            print(f'{doc[word-1]}, {doc[word]}, {doc[word+1]}, {doc[word+2]}, {doc[word+3]}')\n",
    "                        except:\n",
    "                            line -= 1\n",
    "                            print('Skipped - Words out of Range') \n",
    "                    else:\n",
    "                        break"
   ]
  },
  {
   "cell_type": "code",
   "execution_count": 35,
   "metadata": {
    "scrolled": false
   },
   "outputs": [
    {
     "name": "stdout",
     "output_type": "stream",
     "text": [
      "totally, hit, built, right, my\n",
      "mother, hit, her, etc, her\n",
      "reaction, hit, her, daughter, yell\n",
      "i, hit, her, planning, platonic\n",
      "kinda, hit, couple, days, hanging\n",
      "i, hit, her, lunch, asking\n",
      "urge, hit, her, night, even\n",
      "trying, hit, girl, even, try\n",
      "we, hit, well, pretty, much\n",
      "go, hit, festival, downtown, he\n",
      "we, hit, straight, away, we\n",
      "really, hit, text, convo, died\n",
      "unknowingly, hit, flake, alarm, i\n",
      "trying, hit, them, time, i\n",
      "really, hit, lot, similar, interests\n",
      "want, hit, someone, gym, ruin\n",
      "girl, hit, entire, conversation, went\n",
      "tend, hit, trouble, men, women\n",
      "we, hit, immediately, jake, seemed\n",
      "she, hit, me, almost, instantly\n"
     ]
    }
   ],
   "source": [
    "horrible_haiku('hit','dating')"
   ]
  },
  {
   "cell_type": "markdown",
   "metadata": {},
   "source": [
    "It is hard to determine whether `'hit'` used in the context of dating carries a positive or negative connotation. It might imply that couples 'hit' it off really well when they first met or it might be due to a physical altercation. "
   ]
  },
  {
   "cell_type": "code",
   "execution_count": 36,
   "metadata": {},
   "outputs": [
    {
     "name": "stdout",
     "output_type": "stream",
     "text": [
      "their, marriage, i, knew, something\n",
      "their, marriage, ruined, i, want\n",
      "their, marriage, ok, i, also\n",
      "ruin, marriage, i, couldnt, fast\n",
      "talked, marriage, kids, serious, adult\n",
      "our, marriage, troubles, we, barely\n",
      "our, marriage, right, she, told\n",
      "our, marriage, x, b, also\n",
      "sound, marriage, growing, pains, something\n",
      "loveless, marriage, they, never, hugged\n",
      "our, marriage, suffered, i, know\n",
      "great, marriage, big, one, nearly\n",
      "make, marriage, work, i, feel\n",
      "talking, marriage, i, see, future\n",
      "bless, marriage, without, their, acceptance\n",
      "different, marriage, they, history, i\n",
      "successful, marriage, especially, her, dad\n",
      "year, marriage, our, sex, life\n",
      "year, marriage, we, together, years\n",
      "our, marriage, want, try, counseling\n"
     ]
    }
   ],
   "source": [
    "horrible_haiku('marriage','relationship_advice')"
   ]
  },
  {
   "cell_type": "markdown",
   "metadata": {},
   "source": [
    "The overall sentiment seems to be negative. Married couples or individuals observing other marriages are dealing with troubled marriages."
   ]
  },
  {
   "cell_type": "markdown",
   "metadata": {},
   "source": [
    "## Classification Metrics\n",
    "\n",
    "The test accuracy score for the gridsearch logistic regression model is 82%. \n",
    "\n",
    "I will generate a confusion matrix on our test data because we want to see how our logistic classification model performs on unseen data, ie checking whether posts are correctly or incorrectly classified from the dating subreddit."
   ]
  },
  {
   "cell_type": "code",
   "execution_count": 37,
   "metadata": {},
   "outputs": [],
   "source": [
    "y_pred = gs.predict(X_test)"
   ]
  },
  {
   "cell_type": "code",
   "execution_count": 38,
   "metadata": {},
   "outputs": [],
   "source": [
    "cm_def = np.array([['True Negative', 'False Positive'],\n",
    "                ['False Negative', 'True Positive']])\n",
    "cm_def = pd.DataFrame(cm_def,columns = ['pred neg', 'pred pos'], index = ['actual neg','actual pos'])"
   ]
  },
  {
   "cell_type": "code",
   "execution_count": 39,
   "metadata": {},
   "outputs": [],
   "source": [
    "cm = confusion_matrix(y_test, y_pred)\n",
    "cm_df = pd.DataFrame(cm, columns = ['pred neg', 'pred pos'], index = ['actual neg','actual pos'])"
   ]
  },
  {
   "cell_type": "code",
   "execution_count": 40,
   "metadata": {
    "scrolled": false
   },
   "outputs": [
    {
     "data": {
      "text/html": [
       "<div>\n",
       "<style scoped>\n",
       "    .dataframe tbody tr th:only-of-type {\n",
       "        vertical-align: middle;\n",
       "    }\n",
       "\n",
       "    .dataframe tbody tr th {\n",
       "        vertical-align: top;\n",
       "    }\n",
       "\n",
       "    .dataframe thead th {\n",
       "        text-align: right;\n",
       "    }\n",
       "</style>\n",
       "<table border=\"1\" class=\"dataframe\">\n",
       "  <thead>\n",
       "    <tr style=\"text-align: right;\">\n",
       "      <th></th>\n",
       "      <th>pred neg</th>\n",
       "      <th>pred pos</th>\n",
       "    </tr>\n",
       "  </thead>\n",
       "  <tbody>\n",
       "    <tr>\n",
       "      <th>actual neg</th>\n",
       "      <td>True Negative</td>\n",
       "      <td>False Positive</td>\n",
       "    </tr>\n",
       "    <tr>\n",
       "      <th>actual pos</th>\n",
       "      <td>False Negative</td>\n",
       "      <td>True Positive</td>\n",
       "    </tr>\n",
       "  </tbody>\n",
       "</table>\n",
       "</div>"
      ],
      "text/plain": [
       "                  pred neg        pred pos\n",
       "actual neg   True Negative  False Positive\n",
       "actual pos  False Negative   True Positive"
      ]
     },
     "metadata": {},
     "output_type": "display_data"
    },
    {
     "data": {
      "text/html": [
       "<div>\n",
       "<style scoped>\n",
       "    .dataframe tbody tr th:only-of-type {\n",
       "        vertical-align: middle;\n",
       "    }\n",
       "\n",
       "    .dataframe tbody tr th {\n",
       "        vertical-align: top;\n",
       "    }\n",
       "\n",
       "    .dataframe thead th {\n",
       "        text-align: right;\n",
       "    }\n",
       "</style>\n",
       "<table border=\"1\" class=\"dataframe\">\n",
       "  <thead>\n",
       "    <tr style=\"text-align: right;\">\n",
       "      <th></th>\n",
       "      <th>pred neg</th>\n",
       "      <th>pred pos</th>\n",
       "    </tr>\n",
       "  </thead>\n",
       "  <tbody>\n",
       "    <tr>\n",
       "      <th>actual neg</th>\n",
       "      <td>2320</td>\n",
       "      <td>535</td>\n",
       "    </tr>\n",
       "    <tr>\n",
       "      <th>actual pos</th>\n",
       "      <td>392</td>\n",
       "      <td>2015</td>\n",
       "    </tr>\n",
       "  </tbody>\n",
       "</table>\n",
       "</div>"
      ],
      "text/plain": [
       "            pred neg  pred pos\n",
       "actual neg      2320       535\n",
       "actual pos       392      2015"
      ]
     },
     "metadata": {},
     "output_type": "display_data"
    }
   ],
   "source": [
    "from IPython.display import display\n",
    "display(cm_def)\n",
    "display(cm_df)"
   ]
  },
  {
   "cell_type": "code",
   "execution_count": 41,
   "metadata": {},
   "outputs": [],
   "source": [
    "with open ('../assets/cm_log.pkl', 'wb') as f:\n",
    "  pickle.dump(cm_df, f)"
   ]
  },
  {
   "cell_type": "code",
   "execution_count": 42,
   "metadata": {},
   "outputs": [
    {
     "data": {
      "text/plain": [
       "5262"
      ]
     },
     "execution_count": 42,
     "metadata": {},
     "output_type": "execute_result"
    }
   ],
   "source": [
    "len(X_test)"
   ]
  },
  {
   "cell_type": "markdown",
   "metadata": {},
   "source": [
    "Out of 5262 unseen dating and relationship_advice subreddit submissions:\n",
    "\n",
    "**True Positives** - 2015\n",
    "- Our model correctly predicted that 2015 posts are from the dating subreddit\n",
    "\n",
    "**True Negatives** - 2320\n",
    "- Our model correctly predicted that 2320 posts are from the relationship_advice subreddit\n",
    "\n",
    "**False Positive** - 535\n",
    "- Our model incorrectly predicted that 535 posts are from the dating subreddit. \n",
    "\n",
    "**False Negative** - 392\n",
    "- Our model incorrectly predicted that 392 posts are from the relationship_advice subreddit\n",
    "\n",
    "Given that the number of false positives and false negatives are roughly similar and that the true positives and true negatives are similar as well, the model only shows a slight bias towards the majority class which is the relationship_advice subreddit. "
   ]
  },
  {
   "cell_type": "markdown",
   "metadata": {},
   "source": [
    "## AUC ROC CURVE\n",
    "\n",
    "We can go deeper to visualize how well our model performs.\n",
    "\n",
    "The `gs.predict(X_test)` simply returns a binary result, 1's for the post being from dating and 0's for the post being from relationship_advice. \n",
    "\n",
    "However, each binary result is determined by `.predict_proba()`, which contains two probabilities that determine the likelihood of how the post should be classified. \n",
    "\n",
    "For example, if post A has a 51% chance that it is classified as dating, then it is marked as 1.\n",
    "If post B has a 90% chance that it is classified as dating, then it is marked as 1 as well.\n",
    "\n",
    "If a model spits out lukewarm proba's, such as low 50 percentages, then there is a high degree of mistakes in classifying the posts.\n",
    "\n",
    "The AUC ROC shows the tradeoff between the sensitivity and specificity rates.\n",
    "\n",
    "The sensitivity rate explains how out of all the actual dating posts, how many posts did the model correctly classify as dating posts.\n",
    "\n",
    "The specificity rate explains how out of all the actual relationship_advice posts, how many posts did the model correctly classify as relationship_advice posts.\n",
    "\n",
    "\n",
    "As a result, the AUC ROC curve is a classification metric that determines how well our model distinguishes between the classes. The higher the AUC ROC curve, the better the model is at predicting whether a post is from the dating or relationship_advice subreddit. \n",
    "\n",
    "On a scale from 0 to 1, \n",
    "- Less than 0.5 implies that the positive and negative populations should be switched (1's to 0's, 0's to 1's).\n",
    "- 0.5 implies that there is no separability between the classes which is as bad as it can be \n",
    "- 1 implies that the positive and negative populations (dating and relationship_advice subreddits respectively) are perfectl separable. "
   ]
  },
  {
   "cell_type": "code",
   "execution_count": 43,
   "metadata": {},
   "outputs": [],
   "source": [
    "pred_proba = gs.predict_proba(X_test)[:,1]"
   ]
  },
  {
   "cell_type": "code",
   "execution_count": 44,
   "metadata": {},
   "outputs": [],
   "source": [
    "pred_df = pd.DataFrame({'true_values': y_test,\n",
    "                        'pred_probs':pred_proba})"
   ]
  },
  {
   "cell_type": "markdown",
   "metadata": {},
   "source": [
    "Calculating the AUC ROC score."
   ]
  },
  {
   "cell_type": "code",
   "execution_count": 45,
   "metadata": {},
   "outputs": [
    {
     "data": {
      "text/plain": [
       "0.9"
      ]
     },
     "execution_count": 45,
     "metadata": {},
     "output_type": "execute_result"
    }
   ],
   "source": [
    "auc_roc_score = round(roc_auc_score(pred_df['true_values'], pred_df['pred_probs']),2)\n",
    "auc_roc_score"
   ]
  },
  {
   "cell_type": "markdown",
   "metadata": {},
   "source": [
    "The AUC ROC score is 90% which is quite good, further explanations are down below."
   ]
  },
  {
   "cell_type": "code",
   "execution_count": 46,
   "metadata": {},
   "outputs": [
    {
     "data": {
      "image/png": "[encoded data removed]",
      "text/plain": [
       "<Figure size 1440x720 with 1 Axes>"
      ]
     },
     "metadata": {
      "needs_background": "light"
     },
     "output_type": "display_data"
    }
   ],
   "source": [
    "# Create figure.\n",
    "plt.figure(figsize = (20,10))\n",
    "\n",
    "# Create threshold values. (Dashed red line in image.)\n",
    "thresholds = np.linspace(0, 1, 200)\n",
    "\n",
    "# Define function to calculate sensitivity. (True positive rate.)\n",
    "def TPR(df, true_col, pred_prob_col, threshold):\n",
    "    true_positive = df[(df[true_col] == 1) & (df[pred_prob_col] >= threshold)].shape[0]\n",
    "    false_negative = df[(df[true_col] == 1) & (df[pred_prob_col] < threshold)].shape[0]\n",
    "    return true_positive / (true_positive + false_negative)\n",
    "    \n",
    "# Define function to calculate 1 - specificity. (False positive rate.)\n",
    "def FPR(df, true_col, pred_prob_col, threshold):\n",
    "    true_negative = df[(df[true_col] == 0) & (df[pred_prob_col] <= threshold)].shape[0]\n",
    "    false_positive = df[(df[true_col] == 0) & (df[pred_prob_col] > threshold)].shape[0]\n",
    "    return 1 - (true_negative / (true_negative + false_positive))\n",
    "    \n",
    "# Calculate sensitivity & 1-specificity for each threshold between 0 and 1.\n",
    "tpr_values = [TPR(pred_df, 'true_values', 'pred_probs', prob) for prob in thresholds]\n",
    "fpr_values = [FPR(pred_df, 'true_values', 'pred_probs', prob) for prob in thresholds]\n",
    "\n",
    "# Plot ROC curve.\n",
    "plt.plot(fpr_values, # False Positive Rate on X-axis\n",
    "         tpr_values, # True Positive Rate on Y-axis\n",
    "         label='ROC Curve',\n",
    "        color = DO)\n",
    "\n",
    "# Plot baseline. (Perfect overlap between the two populations.)\n",
    "plt.plot(np.linspace(0, 1, 200),\n",
    "         np.linspace(0, 1, 200),\n",
    "         label='baseline',\n",
    "         linestyle='--')\n",
    "\n",
    "# Label axes.\n",
    "plt.title(f'ROC Curve with AUC = {auc_roc_score}', fontsize=32)\n",
    "plt.ylabel('Sensitivity', fontsize=20)\n",
    "plt.xlabel('1 - Specificity', fontsize=20)\n",
    "\n",
    "# Create legend.\n",
    "plt.legend(fontsize=16);"
   ]
  },
  {
   "cell_type": "markdown",
   "metadata": {},
   "source": [
    "The blue dashed baseline indicates a perfect overlap between the dating and relationship_advice subreddit.\n",
    "\n",
    "The ROC curve is generated by varying the classification threshold from 0 to 1. The curve provides a visualization of the tradeoff between sensitivity and specificity.\n",
    "\n",
    "Through the logistic regression classifier model, the subreddit populations are well-separated."
   ]
  },
  {
   "cell_type": "markdown",
   "metadata": {},
   "source": [
    "The sensitivity rate explains how out of all the actual dating posts, how many posts did the model correctly classify as dating posts."
   ]
  },
  {
   "cell_type": "code",
   "execution_count": 47,
   "metadata": {},
   "outputs": [
    {
     "data": {
      "text/plain": [
       "0.84"
      ]
     },
     "execution_count": 47,
     "metadata": {},
     "output_type": "execute_result"
    }
   ],
   "source": [
    "sensitivity = round(len(pred_df[(pred_df['true_values'] == 1) & (pred_df['pred_probs'] >= 0.5)])/len(pred_df[pred_df['true_values'] == 1]),2)\n",
    "sensitivity"
   ]
  },
  {
   "cell_type": "markdown",
   "metadata": {},
   "source": [
    "The sensitivity rate is 84%."
   ]
  },
  {
   "cell_type": "markdown",
   "metadata": {},
   "source": [
    "The specificity rate explains how out of all the actual relationship_advice posts, how many posts did the model correctly classify as relationship_advice posts."
   ]
  },
  {
   "cell_type": "code",
   "execution_count": 48,
   "metadata": {
    "scrolled": true
   },
   "outputs": [
    {
     "data": {
      "text/plain": [
       "0.81"
      ]
     },
     "execution_count": 48,
     "metadata": {},
     "output_type": "execute_result"
    }
   ],
   "source": [
    "specificity = round(len(pred_df[(pred_df['true_values'] == 0) & (pred_df['pred_probs'] <= 0.5)])/len(pred_df[pred_df['true_values'] == 0]),2)\n",
    "specificity"
   ]
  },
  {
   "cell_type": "markdown",
   "metadata": {},
   "source": [
    "The specificity rate is 81%."
   ]
  },
  {
   "cell_type": "code",
   "execution_count": 49,
   "metadata": {},
   "outputs": [
    {
     "data": {
      "text/plain": [
       "273"
      ]
     },
     "execution_count": 49,
     "metadata": {},
     "output_type": "execute_result"
    }
   ],
   "source": [
    "len(pred_df[(pred_df['pred_probs'] > 0.5)&(pred_df['pred_probs'] < 0.6)&(pred_df['true_values'] == 1)])"
   ]
  },
  {
   "cell_type": "markdown",
   "metadata": {},
   "source": [
    "I will now input other models, such as the random forest classifier and the multinomial naive bayes classifier, to examine whether I can achieve better results based on the train and test accuracy scores and the AUC ROC score."
   ]
  },
  {
   "cell_type": "markdown",
   "metadata": {},
   "source": [
    "Summary:"
   ]
  },
  {
   "cell_type": "markdown",
   "metadata": {},
   "source": [
    "| Model | Train Accuracy | Test Accuracy | AUC ROC | True Positive | True Negative | False Positive | False Negative |\n",
    "|---|---|---|---|---|---|---|---|\n",
    "| Logistic Classification | 87% | 82% | 90% |2015 | 2320 | 535 | 392 |  \n",
    "| Multinomial Naive Bayes | - | - | - |- |- |- |- |\n",
    "| Random Forests | - | - | - | - |- |- |- |\n",
    "    \n",
    " <font color='red'>"
   ]
  },
  {
   "cell_type": "markdown",
   "metadata": {},
   "source": [
    "I will now add `dates`, `date`, and `dating` to the stop_words list"
   ]
  },
  {
   "cell_type": "code",
   "execution_count": 50,
   "metadata": {},
   "outputs": [],
   "source": [
    "stop_words = stop_words+['dates','date','dating']"
   ]
  },
  {
   "cell_type": "markdown",
   "metadata": {},
   "source": [
    "Saving the `stop_words`, `X_train`, `X_test`, `y_train`, and `y_test` lists and dataframes for future use "
   ]
  },
  {
   "cell_type": "code",
   "execution_count": 51,
   "metadata": {},
   "outputs": [],
   "source": [
    "with open ('../assets/stop_words_updated.pkl', 'wb') as f:\n",
    "  pickle.dump(stop_words, f)"
   ]
  },
  {
   "cell_type": "code",
   "execution_count": 52,
   "metadata": {},
   "outputs": [],
   "source": [
    "with open('../assets/X_train.pkl', 'wb') as f:\n",
    "  pickle.dump(X_train, f)"
   ]
  },
  {
   "cell_type": "code",
   "execution_count": 53,
   "metadata": {},
   "outputs": [],
   "source": [
    "with open('../assets/X_test.pkl', 'wb') as f:\n",
    "  pickle.dump(X_test, f)"
   ]
  },
  {
   "cell_type": "code",
   "execution_count": 54,
   "metadata": {},
   "outputs": [],
   "source": [
    "with open('../assets/y_train.pkl', 'wb') as f:\n",
    "  pickle.dump(y_train, f)"
   ]
  },
  {
   "cell_type": "code",
   "execution_count": 55,
   "metadata": {},
   "outputs": [],
   "source": [
    "with open('../assets/y_test.pkl', 'wb') as f:\n",
    "  pickle.dump(y_test, f)"
   ]
  },
  {
   "cell_type": "markdown",
   "metadata": {},
   "source": [
    "Also saving top features for future sentiment analysis:"
   ]
  },
  {
   "cell_type": "code",
   "execution_count": 76,
   "metadata": {},
   "outputs": [],
   "source": [
    "with open('../assets/log_reg_beta.pkl', 'wb') as f:\n",
    "  pickle.dump(beta_df, f)"
   ]
  },
  {
   "cell_type": "markdown",
   "metadata": {},
   "source": [
    "# Proceed to 3B_Modeling: Multinomial Naive Bayes"
   ]
  }
 ],
 "metadata": {
  "kernelspec": {
   "display_name": "Python 3",
   "language": "python",
   "name": "python3"
  },
  "language_info": {
   "codemirror_mode": {
    "name": "ipython",
    "version": 3
   },
   "file_extension": ".py",
   "mimetype": "text/x-python",
   "name": "python",
   "nbconvert_exporter": "python",
   "pygments_lexer": "ipython3",
   "version": "3.6.8"
  }
 },
 "nbformat": 4,
 "nbformat_minor": 2
}
