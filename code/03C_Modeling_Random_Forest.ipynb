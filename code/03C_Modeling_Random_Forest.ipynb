{
 "cells": [
  {
   "cell_type": "markdown",
   "metadata": {},
   "source": [
    "# Project 3: Reddit NLP - Random Forest"
   ]
  },
  {
   "cell_type": "code",
   "execution_count": 1,
   "metadata": {
    "scrolled": true
   },
   "outputs": [
    {
     "name": "stderr",
     "output_type": "stream",
     "text": [
      "/anaconda3/lib/python3.6/site-packages/sklearn/ensemble/weight_boosting.py:29: DeprecationWarning: numpy.core.umath_tests is an internal NumPy module and should not be imported. It will be removed in a future NumPy release.\n",
      "  from numpy.core.umath_tests import inner1d\n"
     ]
    }
   ],
   "source": [
    "import pickle\n",
    "import pandas as pd\n",
    "import numpy as np\n",
    "import matplotlib.pyplot as plt\n",
    "import math\n",
    "import time\n",
    "from sklearn.model_selection import train_test_split, RandomizedSearchCV\n",
    "from sklearn.ensemble import RandomForestClassifier\n",
    "from sklearn.pipeline import Pipeline\n",
    "from sklearn.metrics import confusion_matrix\n",
    "from sklearn.metrics import roc_auc_score\n",
    "from sklearn.feature_extraction.text import TfidfVectorizer\n",
    "\n",
    "import warnings\n",
    "warnings.simplefilter(action='ignore', category=FutureWarning)\n",
    "# I really like this color, so it will be used for everything\n",
    "DO = '#7D1B7E'\n",
    "\n",
    "%matplotlib inline\n",
    "plt.style.use('fivethirtyeight')"
   ]
  },
  {
   "cell_type": "markdown",
   "metadata": {},
   "source": [
    "I am now going to attempt to classify the subreddit posts by utilizing a TF-IDF alongside a Random Forest classifier."
   ]
  },
  {
   "cell_type": "markdown",
   "metadata": {},
   "source": [
    "Loading dataframe, stop words, train/test split datasets:"
   ]
  },
  {
   "cell_type": "code",
   "execution_count": 2,
   "metadata": {},
   "outputs": [],
   "source": [
    "with open('../assets/df.pkl','rb') as f:\n",
    "    df = pickle.load(f)\n",
    "with open('../assets/stop_words_updated.pkl', 'rb') as f:\n",
    "    stop_words = pickle.load(f)\n",
    "with open('../assets/X_train.pkl', 'rb') as f: \n",
    "    X_train = pickle.load(f)\n",
    "with open('../assets/X_test.pkl', 'rb') as f:\n",
    "    X_test = pickle.load(f)\n",
    "with open('../assets/y_train.pkl', 'rb') as f:\n",
    "    y_train = pickle.load(f)\n",
    "with open('../assets/y_test.pkl', 'rb') as f:\n",
    "    y_test = pickle.load(f)"
   ]
  },
  {
   "cell_type": "code",
   "execution_count": 3,
   "metadata": {},
   "outputs": [
    {
     "data": {
      "text/html": [
       "<div>\n",
       "<style scoped>\n",
       "    .dataframe tbody tr th:only-of-type {\n",
       "        vertical-align: middle;\n",
       "    }\n",
       "\n",
       "    .dataframe tbody tr th {\n",
       "        vertical-align: top;\n",
       "    }\n",
       "\n",
       "    .dataframe thead th {\n",
       "        text-align: right;\n",
       "    }\n",
       "</style>\n",
       "<table border=\"1\" class=\"dataframe\">\n",
       "  <thead>\n",
       "    <tr style=\"text-align: right;\">\n",
       "      <th></th>\n",
       "      <th>selftext</th>\n",
       "      <th>subreddit</th>\n",
       "      <th>dating</th>\n",
       "      <th>token</th>\n",
       "      <th>word_count</th>\n",
       "      <th>char_count</th>\n",
       "      <th>clean_token</th>\n",
       "    </tr>\n",
       "  </thead>\n",
       "  <tbody>\n",
       "    <tr>\n",
       "      <th>0</th>\n",
       "      <td>The beginning   We have been in a monogamous r...</td>\n",
       "      <td>relationship_advice</td>\n",
       "      <td>0</td>\n",
       "      <td>[beginning, we, monogamous, relationship, year...</td>\n",
       "      <td>1019</td>\n",
       "      <td>8921</td>\n",
       "      <td>beginning we monogamous relationship year shy ...</td>\n",
       "    </tr>\n",
       "    <tr>\n",
       "      <th>1</th>\n",
       "      <td>We have been together   months  It was a norma...</td>\n",
       "      <td>relationship_advice</td>\n",
       "      <td>0</td>\n",
       "      <td>[we, together, months, normal, night, she, got...</td>\n",
       "      <td>97</td>\n",
       "      <td>777</td>\n",
       "      <td>we together months normal night she got shower...</td>\n",
       "    </tr>\n",
       "    <tr>\n",
       "      <th>2</th>\n",
       "      <td>Im a    year old college student  never been o...</td>\n",
       "      <td>dating</td>\n",
       "      <td>1</td>\n",
       "      <td>[im, year, old, college, student, never, date,...</td>\n",
       "      <td>51</td>\n",
       "      <td>461</td>\n",
       "      <td>im year old college student never date done an...</td>\n",
       "    </tr>\n",
       "    <tr>\n",
       "      <th>3</th>\n",
       "      <td>Gf and I both     been dating for   months and...</td>\n",
       "      <td>relationship_advice</td>\n",
       "      <td>0</td>\n",
       "      <td>[gf, i, dating, months, weve, pretty, good, re...</td>\n",
       "      <td>193</td>\n",
       "      <td>1797</td>\n",
       "      <td>gf i dating months weve pretty good relationsh...</td>\n",
       "    </tr>\n",
       "    <tr>\n",
       "      <th>4</th>\n",
       "      <td>Ok  some background  Bf and I have been togeth...</td>\n",
       "      <td>relationship_advice</td>\n",
       "      <td>0</td>\n",
       "      <td>[ok, background, bf, i, together, years, short...</td>\n",
       "      <td>168</td>\n",
       "      <td>1360</td>\n",
       "      <td>ok background bf i together years shortly we f...</td>\n",
       "    </tr>\n",
       "  </tbody>\n",
       "</table>\n",
       "</div>"
      ],
      "text/plain": [
       "                                            selftext            subreddit  \\\n",
       "0  The beginning   We have been in a monogamous r...  relationship_advice   \n",
       "1  We have been together   months  It was a norma...  relationship_advice   \n",
       "2  Im a    year old college student  never been o...               dating   \n",
       "3  Gf and I both     been dating for   months and...  relationship_advice   \n",
       "4  Ok  some background  Bf and I have been togeth...  relationship_advice   \n",
       "\n",
       "   dating                                              token  word_count  \\\n",
       "0       0  [beginning, we, monogamous, relationship, year...        1019   \n",
       "1       0  [we, together, months, normal, night, she, got...          97   \n",
       "2       1  [im, year, old, college, student, never, date,...          51   \n",
       "3       0  [gf, i, dating, months, weve, pretty, good, re...         193   \n",
       "4       0  [ok, background, bf, i, together, years, short...         168   \n",
       "\n",
       "   char_count                                        clean_token  \n",
       "0        8921  beginning we monogamous relationship year shy ...  \n",
       "1         777  we together months normal night she got shower...  \n",
       "2         461  im year old college student never date done an...  \n",
       "3        1797  gf i dating months weve pretty good relationsh...  \n",
       "4        1360  ok background bf i together years shortly we f...  "
      ]
     },
     "execution_count": 3,
     "metadata": {},
     "output_type": "execute_result"
    }
   ],
   "source": [
    "df.head()"
   ]
  },
  {
   "cell_type": "markdown",
   "metadata": {},
   "source": [
    "## TF-IDF\n",
    "\n",
    "$$\n",
    "\\mathrm{tfidf}(t,d,D) = \\frac{N_\\text{term}}{N_\\text{terms in Document}} \\cdot \\log\\frac{N_\\text{Documents}}{N_\\text{Documents that contain term}}\n",
    "$$\n",
    "\n",
    "The TF-IDF consists of two parts, the Term Frequency and the Inverse Document Frequency, that provides a weight of how important a particular word is accross the corpus, which is the whole collection of documents."
   ]
  },
  {
   "cell_type": "markdown",
   "metadata": {},
   "source": [
    "## Random Forest - RandomizedSearchCV\n",
    "\n",
    "A Random Forest classifier will use the dataset after it has been fit through TF-IDF. \n",
    "\n",
    "In random forests, each tree in the ensemble is built from a sample drawn with replacement (i.e., a bootstrap sample) from the training set. In addition, when splitting a node during the construction of the tree, the split that is chosen is no longer the best split among all features. Instead, the split that is picked is the best split among a random subset of the features. As a result of this randomness, the bias of the forest usually slightly increases (with respect to the bias of a single non-random tree) but, due to averaging, its variance also decreases, usually more than compensating for the increase in bias, hence yielding an overall better model.\n",
    "\n",
    "[(Source)](https://scikit-learn.org/stable/modules/ensemble.html#forest)\n",
    "\n",
    "As a result, the objective of the random classifier is to extract which words are most effective in predicting the correct class and also provide a confidence measure with the predictions.\n",
    "\n",
    "A `RandomizedSearchCV` with the hyperparameters for the Random Forest will be implemented to return the optimal model. A `RandomizedSearchCV` will randomly choose a combination of parameters rather than looking through every combination of parameters. It will be used instead of a `GridSearchCV` due to computation time.\n",
    "\n",
    "`n_estimators`\n",
    "- Number of trees in the forest\n",
    "- The default is 100, and the higher the number, the less likelihood that the model will overfit to the training data\n",
    "- Also, the higher the number, the higher the number of votes for the correct class, which makes predictions more stable.\n",
    "\n",
    "`max_depth`\n",
    "- Max number of levels in each decision tree\n",
    "- The default is None, which means the decision tree splits on every node until each leaf node is 100% pure.\n",
    "- There is a high risk of overfitting to the training data.\n",
    "\n",
    "`max_features`\n",
    "- Max number of features that are considered at every decision node to split a node\n",
    "- Typically the number of max_features should be less than all the features in the dataset.\n",
    "- The higher number of max features also results in a high risk of overfitting.\n",
    "\n",
    "\n",
    "`min_samples_split`\n",
    "- Min number of samples required to split a decision node\n",
    "- Default is 2\n",
    "\n",
    "`min_samples_leaf`\n",
    "- Min number of data points allowed in a leaf node\n",
    "- Default is 1\n"
   ]
  },
  {
   "cell_type": "code",
   "execution_count": 4,
   "metadata": {},
   "outputs": [
    {
     "data": {
      "text/plain": [
       "3934     In the past we would have sex regularly and so...\n",
       "3348     Im going on a second with my crush and she did...\n",
       "16190    Well my wife and I have been married for close...\n",
       "15034    Anyways she works at the gym I go to in the ev...\n",
       "7826     i already know somethings are very different  ...\n",
       "Name: selftext, dtype: object"
      ]
     },
     "execution_count": 4,
     "metadata": {},
     "output_type": "execute_result"
    }
   ],
   "source": [
    "X_train.head()"
   ]
  },
  {
   "cell_type": "code",
   "execution_count": 58,
   "metadata": {},
   "outputs": [],
   "source": [
    "pipe = Pipeline([\n",
    "                ('tf', TfidfVectorizer(stop_words = stop_words)),\n",
    "                ('rf', RandomForestClassifier(random_state = 42))\n",
    "])"
   ]
  },
  {
   "cell_type": "code",
   "execution_count": 59,
   "metadata": {},
   "outputs": [],
   "source": [
    "parameters = {\n",
    "    'rf__n_estimators':[100, 150, 200],\n",
    "    'rf__max_depth': [None, 50, 100],\n",
    "    'rf__max_features': ['auto', 10, 20, 50],\n",
    "    'rf__min_samples_split':[2, 25, 40, 50, 70],\n",
    "    'rf__min_samples_leaf': [1]\n",
    "}\n",
    "\n",
    "rscv = RandomizedSearchCV(pipe, \n",
    "                        param_distributions = parameters, \n",
    "                        return_train_score = True,\n",
    "                        n_iter = 50,\n",
    "                        cv = 3\n",
    "                         )"
   ]
  },
  {
   "cell_type": "code",
   "execution_count": 60,
   "metadata": {
    "scrolled": false
   },
   "outputs": [
    {
     "name": "stdout",
     "output_type": "stream",
     "text": [
      "34212.66879987717\n",
      "35377.31409406662\n"
     ]
    }
   ],
   "source": [
    "rscv.fit(X_train, y_train)"
   ]
  },
  {
   "cell_type": "code",
   "execution_count": 61,
   "metadata": {
    "scrolled": false
   },
   "outputs": [
    {
     "data": {
      "text/plain": [
       "{'rf__n_estimators': 200,\n",
       " 'rf__min_samples_split': 25,\n",
       " 'rf__min_samples_leaf': 1,\n",
       " 'rf__max_features': 'auto',\n",
       " 'rf__max_depth': 100}"
      ]
     },
     "execution_count": 61,
     "metadata": {},
     "output_type": "execute_result"
    }
   ],
   "source": [
    "rscv.best_params_"
   ]
  },
  {
   "cell_type": "code",
   "execution_count": 62,
   "metadata": {},
   "outputs": [
    {
     "name": "stdout",
     "output_type": "stream",
     "text": [
      "Train Accuracy: 0.992\n",
      "Test Accuracy: 0.796\n"
     ]
    }
   ],
   "source": [
    "rscv_train_accuracy = round(rscv.score(X_train, y_train),3)\n",
    "rscv_test_accuracy = round(rscv.score(X_test, y_test),3)\n",
    "\n",
    "print(f'Train Accuracy: {rscv_train_accuracy}')\n",
    "print(f'Test Accuracy: {rscv_test_accuracy}')"
   ]
  },
  {
   "cell_type": "markdown",
   "metadata": {},
   "source": [
    "Based on the optimal parameters, the random forest classifier has high variance and low bias. The model accurately classified 99.2% of the training dataset but only classified 79.6% for the test dataset which implies that the model is highly overfit. A remedy might be to reduce the depth of trees as well as increase the number of decision trees.\n",
    "\n",
    "The accuracy scores are similar to the logistic model."
   ]
  },
  {
   "cell_type": "markdown",
   "metadata": {},
   "source": [
    "## Feature Importance\n",
    "\n",
    "I am now going to explore which words are the most important in gaining information and thus classification."
   ]
  },
  {
   "cell_type": "markdown",
   "metadata": {},
   "source": [
    "Obtaining the feature weights:"
   ]
  },
  {
   "cell_type": "code",
   "execution_count": 135,
   "metadata": {},
   "outputs": [],
   "source": [
    "feature_weights = rscv.best_estimator_.named_steps['rf'].feature_importances_"
   ]
  },
  {
   "cell_type": "markdown",
   "metadata": {},
   "source": [
    "Grabbing the top feature names and storing it as `vocab`."
   ]
  },
  {
   "cell_type": "code",
   "execution_count": 97,
   "metadata": {},
   "outputs": [],
   "source": [
    "vocab = rscv.best_estimator_.named_steps['tf'].get_feature_names()"
   ]
  },
  {
   "cell_type": "markdown",
   "metadata": {},
   "source": [
    "Creating a feature importance dataframe"
   ]
  },
  {
   "cell_type": "code",
   "execution_count": 98,
   "metadata": {},
   "outputs": [],
   "source": [
    "feature_df = pd.DataFrame( {'top_words': vocab, 'importance' : feature_weights})"
   ]
  },
  {
   "cell_type": "code",
   "execution_count": 99,
   "metadata": {},
   "outputs": [],
   "source": [
    "feature_df = feature_df.set_index('top_words')\n",
    "feature_df = feature_df.sort_values('importance',ascending = False)"
   ]
  },
  {
   "cell_type": "code",
   "execution_count": 100,
   "metadata": {
    "scrolled": true
   },
   "outputs": [
    {
     "data": {
      "text/html": [
       "<div>\n",
       "<style scoped>\n",
       "    .dataframe tbody tr th:only-of-type {\n",
       "        vertical-align: middle;\n",
       "    }\n",
       "\n",
       "    .dataframe tbody tr th {\n",
       "        vertical-align: top;\n",
       "    }\n",
       "\n",
       "    .dataframe thead th {\n",
       "        text-align: right;\n",
       "    }\n",
       "</style>\n",
       "<table border=\"1\" class=\"dataframe\">\n",
       "  <thead>\n",
       "    <tr style=\"text-align: right;\">\n",
       "      <th></th>\n",
       "      <th>importance</th>\n",
       "    </tr>\n",
       "    <tr>\n",
       "      <th>top_words</th>\n",
       "      <th></th>\n",
       "    </tr>\n",
       "  </thead>\n",
       "  <tbody>\n",
       "    <tr>\n",
       "      <th>him</th>\n",
       "      <td>0.010355</td>\n",
       "    </tr>\n",
       "    <tr>\n",
       "      <th>my</th>\n",
       "      <td>0.009846</td>\n",
       "    </tr>\n",
       "    <tr>\n",
       "      <th>his</th>\n",
       "      <td>0.008492</td>\n",
       "    </tr>\n",
       "    <tr>\n",
       "      <th>he</th>\n",
       "      <td>0.008453</td>\n",
       "    </tr>\n",
       "    <tr>\n",
       "      <th>we</th>\n",
       "      <td>0.008200</td>\n",
       "    </tr>\n",
       "  </tbody>\n",
       "</table>\n",
       "</div>"
      ],
      "text/plain": [
       "           importance\n",
       "top_words            \n",
       "him          0.010355\n",
       "my           0.009846\n",
       "his          0.008492\n",
       "he           0.008453\n",
       "we           0.008200"
      ]
     },
     "execution_count": 100,
     "metadata": {},
     "output_type": "execute_result"
    }
   ],
   "source": [
    "feature_df.head(5)"
   ]
  },
  {
   "cell_type": "code",
   "execution_count": 141,
   "metadata": {
    "scrolled": false
   },
   "outputs": [
    {
     "data": {
      "image/png": "[encoded data removed]",
      "text/plain": [
       "<Figure size 1440x720 with 1 Axes>"
      ]
     },
     "metadata": {},
     "output_type": "display_data"
    }
   ],
   "source": [
    "weights = feature_df['importance'].head(20).sort_values()\n",
    "labels = weights.index\n",
    "\n",
    "plt.figure(figsize=(20,10))\n",
    "plt.barh(labels, weights, color = DO)\n",
    "plt.yticks(fontsize=20)\n",
    "plt.xticks(fontsize=20)\n",
    "plt.xlabel('Amount of Information Gained', fontsize=30)\n",
    "plt.title(f'Top 20 Features - Random Forest', fontsize=42)\n",
    "plt.tight_layout()\n",
    "\n",
    "plt.savefig('../plots/top_feature_RF_pres.png')"
   ]
  },
  {
   "cell_type": "markdown",
   "metadata": {},
   "source": [
    "The features that provide the most information gained indicate how effective the features are at classifying the posts as the target class, the dating subreddit. \n",
    "\n",
    "The top words are gender pronouns, and it is interesting to see how `'him'`, `'his'`, and `'he'` are the top, perhaps suggesting that the majority of the posters have issues with their male significant other."
   ]
  },
  {
   "cell_type": "markdown",
   "metadata": {},
   "source": [
    "## Classification Metrics\n",
    "\n",
    "The test accuracy score for the random search random forest is 79.6%. \n",
    "\n",
    "I will generate a confusion matrix on our test data because I want to examine how the random forest will perform on unseen data, ie checking whether posts are correctly or incorrectly classified from the dating subreddit."
   ]
  },
  {
   "cell_type": "code",
   "execution_count": 124,
   "metadata": {},
   "outputs": [],
   "source": [
    "y_pred = rscv.predict(X_test)"
   ]
  },
  {
   "cell_type": "code",
   "execution_count": 125,
   "metadata": {},
   "outputs": [],
   "source": [
    "cm_def = np.array([['True Negative', 'False Positive'],\n",
    "                ['False Negative', 'True Positive']])\n",
    "cm_def = pd.DataFrame(cm_def,columns = ['pred neg', 'pred pos'], index = ['actual neg','actual pos'])"
   ]
  },
  {
   "cell_type": "code",
   "execution_count": 126,
   "metadata": {},
   "outputs": [],
   "source": [
    "cm = confusion_matrix(y_test, y_pred)\n",
    "cm_df = pd.DataFrame(cm, columns = ['pred neg', 'pred pos'], index = ['actual neg','actual pos'])"
   ]
  },
  {
   "cell_type": "code",
   "execution_count": 127,
   "metadata": {
    "scrolled": true
   },
   "outputs": [
    {
     "data": {
      "text/html": [
       "<div>\n",
       "<style scoped>\n",
       "    .dataframe tbody tr th:only-of-type {\n",
       "        vertical-align: middle;\n",
       "    }\n",
       "\n",
       "    .dataframe tbody tr th {\n",
       "        vertical-align: top;\n",
       "    }\n",
       "\n",
       "    .dataframe thead th {\n",
       "        text-align: right;\n",
       "    }\n",
       "</style>\n",
       "<table border=\"1\" class=\"dataframe\">\n",
       "  <thead>\n",
       "    <tr style=\"text-align: right;\">\n",
       "      <th></th>\n",
       "      <th>pred neg</th>\n",
       "      <th>pred pos</th>\n",
       "    </tr>\n",
       "  </thead>\n",
       "  <tbody>\n",
       "    <tr>\n",
       "      <th>actual neg</th>\n",
       "      <td>True Negative</td>\n",
       "      <td>False Positive</td>\n",
       "    </tr>\n",
       "    <tr>\n",
       "      <th>actual pos</th>\n",
       "      <td>False Negative</td>\n",
       "      <td>True Positive</td>\n",
       "    </tr>\n",
       "  </tbody>\n",
       "</table>\n",
       "</div>"
      ],
      "text/plain": [
       "                  pred neg        pred pos\n",
       "actual neg   True Negative  False Positive\n",
       "actual pos  False Negative   True Positive"
      ]
     },
     "metadata": {},
     "output_type": "display_data"
    },
    {
     "data": {
      "text/html": [
       "<div>\n",
       "<style scoped>\n",
       "    .dataframe tbody tr th:only-of-type {\n",
       "        vertical-align: middle;\n",
       "    }\n",
       "\n",
       "    .dataframe tbody tr th {\n",
       "        vertical-align: top;\n",
       "    }\n",
       "\n",
       "    .dataframe thead th {\n",
       "        text-align: right;\n",
       "    }\n",
       "</style>\n",
       "<table border=\"1\" class=\"dataframe\">\n",
       "  <thead>\n",
       "    <tr style=\"text-align: right;\">\n",
       "      <th></th>\n",
       "      <th>pred neg</th>\n",
       "      <th>pred pos</th>\n",
       "    </tr>\n",
       "  </thead>\n",
       "  <tbody>\n",
       "    <tr>\n",
       "      <th>actual neg</th>\n",
       "      <td>2399</td>\n",
       "      <td>456</td>\n",
       "    </tr>\n",
       "    <tr>\n",
       "      <th>actual pos</th>\n",
       "      <td>618</td>\n",
       "      <td>1789</td>\n",
       "    </tr>\n",
       "  </tbody>\n",
       "</table>\n",
       "</div>"
      ],
      "text/plain": [
       "            pred neg  pred pos\n",
       "actual neg      2399       456\n",
       "actual pos       618      1789"
      ]
     },
     "metadata": {},
     "output_type": "display_data"
    }
   ],
   "source": [
    "from IPython.display import display\n",
    "display(cm_def)\n",
    "display(cm_df)"
   ]
  },
  {
   "cell_type": "code",
   "execution_count": 128,
   "metadata": {},
   "outputs": [
    {
     "data": {
      "text/plain": [
       "5262"
      ]
     },
     "execution_count": 128,
     "metadata": {},
     "output_type": "execute_result"
    }
   ],
   "source": [
    "len(X_test)"
   ]
  },
  {
   "cell_type": "markdown",
   "metadata": {},
   "source": [
    "Out of 5262 unseen dating and relationship_advice subreddit submissions:\n",
    "\n",
    "**True Positives** - 1789\n",
    "- Our model correctly predicted that 1789 posts are from the dating subreddit\n",
    "\n",
    "**True Negatives** - 2399\n",
    "- Our model correctly predicted that 2399 posts are from the relationship_advice subreddit\n",
    "\n",
    "**False Positive** - 456\n",
    "- Our model incorrectly predicted that 456 posts are from the dating subreddit. \n",
    "\n",
    "**False Negative** - 618\n",
    "- Our model incorrectly predicted that 618 posts are from the relationship_advice subreddit\n",
    "\n",
    "Given that the number of false positives and false negatives are roughly similar and that the true positives and true negatives are similar as well, the model only shows a slight bias towards the majority class which is the relationship_advice subreddit. \n",
    "\n",
    "Compared to the logistic classification model, there are 226 fewer true positive predictions, which is not ideal because we want to increase the number of true positive predictions."
   ]
  },
  {
   "cell_type": "markdown",
   "metadata": {},
   "source": [
    "## AUC ROC CURVE\n",
    "\n",
    "Again, using the AUC ROC curve I will examine how well our model classifies the subreddit posts as 1's (dating) and 0's (relationship_advice)."
   ]
  },
  {
   "cell_type": "code",
   "execution_count": 130,
   "metadata": {},
   "outputs": [],
   "source": [
    "pred_proba = rscv.predict_proba(X_test)[:,1]"
   ]
  },
  {
   "cell_type": "code",
   "execution_count": 131,
   "metadata": {},
   "outputs": [],
   "source": [
    "pred_df = pd.DataFrame({'true_values': y_test,\n",
    "                        'pred_probs':pred_proba})"
   ]
  },
  {
   "cell_type": "markdown",
   "metadata": {},
   "source": [
    "Calculating the AUC ROC score."
   ]
  },
  {
   "cell_type": "code",
   "execution_count": 134,
   "metadata": {},
   "outputs": [
    {
     "data": {
      "text/plain": [
       "0.87"
      ]
     },
     "execution_count": 134,
     "metadata": {},
     "output_type": "execute_result"
    }
   ],
   "source": [
    "auc_roc_score = round(roc_auc_score(pred_df['true_values'], pred_df['pred_probs']),2)\n",
    "auc_roc_score"
   ]
  },
  {
   "cell_type": "markdown",
   "metadata": {},
   "source": [
    "The AUC ROC score is 87% which is quite good and shows that there is not much overlap between our positive and negative classes."
   ]
  },
  {
   "cell_type": "code",
   "execution_count": 133,
   "metadata": {},
   "outputs": [
    {
     "data": {
      "image/png": "[encoded data removed]",
      "text/plain": [
       "<Figure size 1440x720 with 1 Axes>"
      ]
     },
     "metadata": {},
     "output_type": "display_data"
    }
   ],
   "source": [
    "# Create figure.\n",
    "plt.figure(figsize = (20,10))\n",
    "\n",
    "# Create threshold values. (Dashed red line in image.)\n",
    "thresholds = np.linspace(0, 1, 200)\n",
    "\n",
    "# Define function to calculate sensitivity. (True positive rate.)\n",
    "def TPR(df, true_col, pred_prob_col, threshold):\n",
    "    true_positive = df[(df[true_col] == 1) & (df[pred_prob_col] >= threshold)].shape[0]\n",
    "    false_negative = df[(df[true_col] == 1) & (df[pred_prob_col] < threshold)].shape[0]\n",
    "    return true_positive / (true_positive + false_negative)\n",
    "    \n",
    "# Define function to calculate 1 - specificity. (False positive rate.)\n",
    "def FPR(df, true_col, pred_prob_col, threshold):\n",
    "    true_negative = df[(df[true_col] == 0) & (df[pred_prob_col] <= threshold)].shape[0]\n",
    "    false_positive = df[(df[true_col] == 0) & (df[pred_prob_col] > threshold)].shape[0]\n",
    "    return 1 - (true_negative / (true_negative + false_positive))\n",
    "    \n",
    "# Calculate sensitivity & 1-specificity for each threshold between 0 and 1.\n",
    "tpr_values = [TPR(pred_df, 'true_values', 'pred_probs', prob) for prob in thresholds]\n",
    "fpr_values = [FPR(pred_df, 'true_values', 'pred_probs', prob) for prob in thresholds]\n",
    "\n",
    "# Plot ROC curve.\n",
    "plt.plot(fpr_values, # False Positive Rate on X-axis\n",
    "         tpr_values, # True Positive Rate on Y-axis\n",
    "         label='ROC Curve',\n",
    "        color = DO)\n",
    "\n",
    "# Plot baseline. (Perfect overlap between the two populations.)\n",
    "plt.plot(np.linspace(0, 1, 200),\n",
    "         np.linspace(0, 1, 200),\n",
    "         label='baseline',\n",
    "         linestyle='--')\n",
    "\n",
    "# Label axes.\n",
    "plt.title(f'ROC Curve with AUC = {auc_roc_score}', fontsize=32)\n",
    "plt.ylabel('Sensitivity', fontsize=20)\n",
    "plt.xlabel('1 - Specificity', fontsize=20)\n",
    "\n",
    "# Create legend.\n",
    "plt.legend(fontsize=16);"
   ]
  },
  {
   "cell_type": "markdown",
   "metadata": {},
   "source": [
    "The blue dashed baseline indicates a perfect overlap between the dating and relationship_advice subreddit.\n",
    "\n",
    "The ROC curve is generated by varying the classification threshold from 0 to 1. The curve provides a visualization of the tradeoff between sensitivity and specificity.\n",
    "\n",
    "Through the random forest classification model, the subreddit populations are well-separated."
   ]
  },
  {
   "cell_type": "markdown",
   "metadata": {},
   "source": [
    "The sensitivity is how many posts did the model get correct out of all dating posts."
   ]
  },
  {
   "cell_type": "code",
   "execution_count": 122,
   "metadata": {},
   "outputs": [
    {
     "data": {
      "text/plain": [
       "0.74"
      ]
     },
     "execution_count": 122,
     "metadata": {},
     "output_type": "execute_result"
    }
   ],
   "source": [
    "sensitivity = round(len(pred_df[(pred_df['true_values'] == 1) & (pred_df['pred_probs'] >= 0.5)])/len(pred_df[pred_df['true_values'] == 1]),2)\n",
    "sensitivity"
   ]
  },
  {
   "cell_type": "markdown",
   "metadata": {},
   "source": [
    "The sensitivity rate is 74%."
   ]
  },
  {
   "cell_type": "markdown",
   "metadata": {},
   "source": [
    "The specificity is how many posts did the mdoel get correct out of all the relationship_advice posts."
   ]
  },
  {
   "cell_type": "code",
   "execution_count": 123,
   "metadata": {
    "scrolled": true
   },
   "outputs": [
    {
     "data": {
      "text/plain": [
       "0.84"
      ]
     },
     "execution_count": 123,
     "metadata": {},
     "output_type": "execute_result"
    }
   ],
   "source": [
    "specificity = round(len(pred_df[(pred_df['true_values'] == 0) & (pred_df['pred_probs'] <= 0.5)])/len(pred_df[pred_df['true_values'] == 0]),2)\n",
    "specificity"
   ]
  },
  {
   "cell_type": "markdown",
   "metadata": {},
   "source": [
    "The specificity rate is 84%."
   ]
  },
  {
   "cell_type": "markdown",
   "metadata": {},
   "source": [
    "## Summary:\n",
    "\n",
    "| Model | Train Accuracy | Test Accuracy | AUC ROC | True Positive | True Negative | False Positive | False Negative |\n",
    "|---|---|---|---|---|---|---|---|\n",
    "| Logistic Classification | 87% | <font color = 'red'> 82% | <font color = 'red'> 90% |2015 | 2320 | 535 | 392 |  \n",
    "| Multinomial Naive Bayes | 83% |  81% | 89% | 1889 | 2370 | 485 | 418 |\n",
    "| Random Forests | 99% | 80% | 87% | 1789 | 2399 | 456 | 618 |\n",
    "    \n",
    "Based on the test accuracy and AUC ROC scores, it appears the logistic classification model performed the best out of the three. Furthermore, there is easier interpretability in logistic model's feature weights, and the model is not as overfit as the random forest and only slightly more overfit compared to the multinomial naive bayes.\n",
    "\n",
    "I will now examine the top features used in context of the posts and run a sentiment analysis to investigate which subreddit exhibits a greater plea for help."
   ]
  },
  {
   "cell_type": "markdown",
   "metadata": {},
   "source": [
    "# Proceed to Notebook 4: Sentiment Analysis"
   ]
  }
 ],
 "metadata": {
  "kernelspec": {
   "display_name": "Python 3",
   "language": "python",
   "name": "python3"
  },
  "language_info": {
   "codemirror_mode": {
    "name": "ipython",
    "version": 3
   },
   "file_extension": ".py",
   "mimetype": "text/x-python",
   "name": "python",
   "nbconvert_exporter": "python",
   "pygments_lexer": "ipython3",
   "version": "3.6.8"
  }
 },
 "nbformat": 4,
 "nbformat_minor": 2
}
