{
 "cells": [
  {
   "cell_type": "markdown",
   "metadata": {},
   "source": [
    "# Project 3: Reddit NLP - Multinomial Naive Bayes"
   ]
  },
  {
   "cell_type": "code",
   "execution_count": 1,
   "metadata": {
    "scrolled": true
   },
   "outputs": [
    {
     "name": "stderr",
     "output_type": "stream",
     "text": [
      "/anaconda3/lib/python3.6/site-packages/sklearn/ensemble/weight_boosting.py:29: DeprecationWarning: numpy.core.umath_tests is an internal NumPy module and should not be imported. It will be removed in a future NumPy release.\n",
      "  from numpy.core.umath_tests import inner1d\n"
     ]
    }
   ],
   "source": [
    "import pickle\n",
    "import pandas as pd\n",
    "import numpy as np\n",
    "import matplotlib.pyplot as plt\n",
    "import math\n",
    "import time\n",
    "from sklearn.model_selection import train_test_split, GridSearchCV\n",
    "from sklearn.ensemble import RandomForestClassifier\n",
    "from sklearn.naive_bayes import MultinomialNB\n",
    "from sklearn.pipeline import Pipeline\n",
    "from sklearn.metrics import confusion_matrix\n",
    "from sklearn.metrics import roc_auc_score\n",
    "from sklearn.feature_extraction.text import TfidfVectorizer, CountVectorizer\n",
    "\n",
    "import warnings\n",
    "warnings.simplefilter(action='ignore', category=FutureWarning)\n",
    "\n",
    "# I really like this color, so it will be used for everything\n",
    "DO = '#7D1B7E'\n",
    "\n",
    "%matplotlib inline\n",
    "plt.style.use('fivethirtyeight')"
   ]
  },
  {
   "cell_type": "markdown",
   "metadata": {},
   "source": [
    "I am now going to attempt to classify the subreddit posts by utilizing a count vectorizer along with a multinomial naive bayes model. With the model, I will be able to estimate the probability that a submission is posted in a specific class, and then classify the submission."
   ]
  },
  {
   "cell_type": "markdown",
   "metadata": {},
   "source": [
    "Loading dataframe, stop words, train/test splits."
   ]
  },
  {
   "cell_type": "code",
   "execution_count": 2,
   "metadata": {},
   "outputs": [],
   "source": [
    "with open('../assets/df.pkl','rb') as f:\n",
    "    df = pickle.load(f)\n",
    "with open('../assets/stop_words_updated.pkl', 'rb') as f:\n",
    "    stop_words = pickle.load(f)\n",
    "with open('../assets/X_train.pkl', 'rb') as f: \n",
    "    X_train = pickle.load(f)\n",
    "with open('../assets/X_test.pkl', 'rb') as f:\n",
    "    X_test = pickle.load(f)\n",
    "with open('../assets/y_train.pkl', 'rb') as f:\n",
    "    y_train = pickle.load(f)\n",
    "with open('../assets/y_test.pkl', 'rb') as f:\n",
    "    y_test = pickle.load(f)"
   ]
  },
  {
   "cell_type": "code",
   "execution_count": 3,
   "metadata": {},
   "outputs": [
    {
     "data": {
      "text/html": [
       "<div>\n",
       "<style scoped>\n",
       "    .dataframe tbody tr th:only-of-type {\n",
       "        vertical-align: middle;\n",
       "    }\n",
       "\n",
       "    .dataframe tbody tr th {\n",
       "        vertical-align: top;\n",
       "    }\n",
       "\n",
       "    .dataframe thead th {\n",
       "        text-align: right;\n",
       "    }\n",
       "</style>\n",
       "<table border=\"1\" class=\"dataframe\">\n",
       "  <thead>\n",
       "    <tr style=\"text-align: right;\">\n",
       "      <th></th>\n",
       "      <th>selftext</th>\n",
       "      <th>subreddit</th>\n",
       "      <th>dating</th>\n",
       "      <th>token</th>\n",
       "      <th>word_count</th>\n",
       "      <th>char_count</th>\n",
       "      <th>clean_token</th>\n",
       "    </tr>\n",
       "  </thead>\n",
       "  <tbody>\n",
       "    <tr>\n",
       "      <th>0</th>\n",
       "      <td>The beginning   We have been in a monogamous r...</td>\n",
       "      <td>relationship_advice</td>\n",
       "      <td>0</td>\n",
       "      <td>[beginning, we, monogamous, relationship, year...</td>\n",
       "      <td>1019</td>\n",
       "      <td>8921</td>\n",
       "      <td>beginning we monogamous relationship year shy ...</td>\n",
       "    </tr>\n",
       "    <tr>\n",
       "      <th>1</th>\n",
       "      <td>We have been together   months  It was a norma...</td>\n",
       "      <td>relationship_advice</td>\n",
       "      <td>0</td>\n",
       "      <td>[we, together, months, normal, night, she, got...</td>\n",
       "      <td>97</td>\n",
       "      <td>777</td>\n",
       "      <td>we together months normal night she got shower...</td>\n",
       "    </tr>\n",
       "    <tr>\n",
       "      <th>2</th>\n",
       "      <td>Im a    year old college student  never been o...</td>\n",
       "      <td>dating</td>\n",
       "      <td>1</td>\n",
       "      <td>[im, year, old, college, student, never, date,...</td>\n",
       "      <td>51</td>\n",
       "      <td>461</td>\n",
       "      <td>im year old college student never date done an...</td>\n",
       "    </tr>\n",
       "    <tr>\n",
       "      <th>3</th>\n",
       "      <td>Gf and I both     been dating for   months and...</td>\n",
       "      <td>relationship_advice</td>\n",
       "      <td>0</td>\n",
       "      <td>[gf, i, dating, months, weve, pretty, good, re...</td>\n",
       "      <td>193</td>\n",
       "      <td>1797</td>\n",
       "      <td>gf i dating months weve pretty good relationsh...</td>\n",
       "    </tr>\n",
       "    <tr>\n",
       "      <th>4</th>\n",
       "      <td>Ok  some background  Bf and I have been togeth...</td>\n",
       "      <td>relationship_advice</td>\n",
       "      <td>0</td>\n",
       "      <td>[ok, background, bf, i, together, years, short...</td>\n",
       "      <td>168</td>\n",
       "      <td>1360</td>\n",
       "      <td>ok background bf i together years shortly we f...</td>\n",
       "    </tr>\n",
       "  </tbody>\n",
       "</table>\n",
       "</div>"
      ],
      "text/plain": [
       "                                            selftext            subreddit  \\\n",
       "0  The beginning   We have been in a monogamous r...  relationship_advice   \n",
       "1  We have been together   months  It was a norma...  relationship_advice   \n",
       "2  Im a    year old college student  never been o...               dating   \n",
       "3  Gf and I both     been dating for   months and...  relationship_advice   \n",
       "4  Ok  some background  Bf and I have been togeth...  relationship_advice   \n",
       "\n",
       "   dating                                              token  word_count  \\\n",
       "0       0  [beginning, we, monogamous, relationship, year...        1019   \n",
       "1       0  [we, together, months, normal, night, she, got...          97   \n",
       "2       1  [im, year, old, college, student, never, date,...          51   \n",
       "3       0  [gf, i, dating, months, weve, pretty, good, re...         193   \n",
       "4       0  [ok, background, bf, i, together, years, short...         168   \n",
       "\n",
       "   char_count                                        clean_token  \n",
       "0        8921  beginning we monogamous relationship year shy ...  \n",
       "1         777  we together months normal night she got shower...  \n",
       "2         461  im year old college student never date done an...  \n",
       "3        1797  gf i dating months weve pretty good relationsh...  \n",
       "4        1360  ok background bf i together years shortly we f...  "
      ]
     },
     "execution_count": 3,
     "metadata": {},
     "output_type": "execute_result"
    }
   ],
   "source": [
    "df.head()"
   ]
  },
  {
   "cell_type": "markdown",
   "metadata": {},
   "source": [
    "## TF-IDF\n",
    "\n",
    "$$\n",
    "\\mathrm{tfidf}(t,d,D) = \\frac{N_\\text{term}}{N_\\text{terms in Document}} \\cdot \\log\\frac{N_\\text{Documents}}{N_\\text{Documents that contain term}}\n",
    "$$\n",
    "\n",
    "Instead of using a CountVectorizer to convert the documents (submissions) into numbers, I am going to use the term frequency–inverse document frequency. The level of feature importance of gender pronouns, such as 'he', 'his', 'she', 'her', accross the corpus should not be inflated simply due to the fact that they appear more often than other words.\n",
    "\n",
    "The TF-IDF consists of two parts, the Term Frequency and the Inverse Document Frequency, that provides a weight of how important a particular word is accross the corpus, which is the whole collection of documents.\n",
    "\n",
    "Term Frequency\n",
    "- The frequency of how often a word appears in a document\n",
    "\n",
    "Inverse Document Frequency\n",
    "- Determines whether a word is rare or common, which helps to adjust that some words appear more frequently than others in general. It measures how much information a word carries.\n",
    "\n",
    "Combining the two together, the TF-IDF value increases proportionally to the term frequency and is offset by the number of documents in the corpus that contain the word."
   ]
  },
  {
   "cell_type": "markdown",
   "metadata": {},
   "source": [
    "## Multinomial Naive Bayes\n",
    "\n",
    "Though the multinomial Naive Bayes classifier is suited to work with discrete features, such as the word count, the model can be used with TF-IDF's fraction values. Once the text is vectorized by TF-IDF, the TF-IDF returns the most important features, which are words.\n",
    "\n",
    "The dating subreddit is labeled as the positive class and the relationship advice subreddit is labeled as the negative class. \n",
    "\n",
    "Given the TF-IDF selected features occuring in a given post, we are calculating two probabilities: the probability that the post is positive and the probability that the post is negative. The larger of the two probabilities ultimately determines whether the post belongs to the positive or negative class. \n",
    "\n",
    "With the naive bayes model, we are making two assumptions that might be counter-intuitive because words are dependent on each other to create meaningful sentences:\n",
    "1. The model assumes that the features (words) are independent of one another to simplify the conditional probability that arises from Bayes' Theorem. \n",
    "2. The bag of words obtained from the vectorizer is unordered.\n",
    "\n",
    "With the assumptions, we can multiply the likelihood of a class by individual features instead of whole texts. For each selected feature occurence, we are counting how many times the feature appears in the post divided by the total number of words across a class' corpus. \n",
    "\n",
    "I am going to examine the model's predictive powers based on individual words."
   ]
  },
  {
   "cell_type": "code",
   "execution_count": 17,
   "metadata": {},
   "outputs": [],
   "source": [
    "pipe = Pipeline([\n",
    "                ('tf', TfidfVectorizer(stop_words = stop_words)),\n",
    "                ('nb', MultinomialNB())\n",
    "])"
   ]
  },
  {
   "cell_type": "code",
   "execution_count": 18,
   "metadata": {},
   "outputs": [],
   "source": [
    "parameters = {\n",
    "                'tf__max_features' : [500,1000,1500,2000, 5000],\n",
    "                'tf__ngram_range' : [(1,1), (1,2), (2,2)]\n",
    "}"
   ]
  },
  {
   "cell_type": "code",
   "execution_count": 19,
   "metadata": {},
   "outputs": [],
   "source": [
    "gs = GridSearchCV(pipe, param_grid = parameters, cv = 5)"
   ]
  },
  {
   "cell_type": "code",
   "execution_count": 20,
   "metadata": {},
   "outputs": [],
   "source": [
    "gs.fit(X_train, y_train);"
   ]
  },
  {
   "cell_type": "code",
   "execution_count": 21,
   "metadata": {},
   "outputs": [
    {
     "data": {
      "text/plain": [
       "{'tf__max_features': 5000, 'tf__ngram_range': (1, 2)}"
      ]
     },
     "execution_count": 21,
     "metadata": {},
     "output_type": "execute_result"
    }
   ],
   "source": [
    "gs.best_params_"
   ]
  },
  {
   "cell_type": "markdown",
   "metadata": {},
   "source": [
    "Based on the GridSearchCV, the best parameters that will return the highest accuracy scores are 5000 max features, and an ngram_range of 1 and 2. "
   ]
  },
  {
   "cell_type": "code",
   "execution_count": 22,
   "metadata": {},
   "outputs": [
    {
     "name": "stdout",
     "output_type": "stream",
     "text": [
      "Train Accuracy: 0.83\n"
     ]
    }
   ],
   "source": [
    "gs_train_accuracy = round(gs.score(X_train, y_train),2)\n",
    "print(f'Train Accuracy: {gs_train_accuracy}')"
   ]
  },
  {
   "cell_type": "code",
   "execution_count": 23,
   "metadata": {},
   "outputs": [
    {
     "name": "stdout",
     "output_type": "stream",
     "text": [
      "Test Accuracy: 0.81\n"
     ]
    }
   ],
   "source": [
    "gs_test_accuracy = round(gs.score(X_test, y_test),2)\n",
    "print(f'Test Accuracy: {gs_test_accuracy}')"
   ]
  },
  {
   "cell_type": "markdown",
   "metadata": {},
   "source": [
    "The train accuracy is 83% and the test accuracy is 81%. At a glance, the results are encouraging as the scores are similar, and there is no overfitting, but I will need to explore the proba's to see the likelihood of how a post is classified. "
   ]
  },
  {
   "cell_type": "markdown",
   "metadata": {},
   "source": [
    "## Results - Feature Weights\n",
    "\n",
    "I am now going to explore which words are the most important in determining whether a post is from the dating subreddit or not."
   ]
  },
  {
   "cell_type": "markdown",
   "metadata": {},
   "source": [
    "Grabbing the top feature names and storing it as `vocab`."
   ]
  },
  {
   "cell_type": "code",
   "execution_count": 24,
   "metadata": {},
   "outputs": [],
   "source": [
    "vocab = gs.best_estimator_.named_steps['tf'].get_feature_names()"
   ]
  },
  {
   "cell_type": "markdown",
   "metadata": {},
   "source": [
    "Creating a feature weight dataframe, and determining which words are most important."
   ]
  },
  {
   "cell_type": "code",
   "execution_count": 25,
   "metadata": {},
   "outputs": [],
   "source": [
    "coef = list(gs.best_estimator_.named_steps['nb'].coef_[0])"
   ]
  },
  {
   "cell_type": "code",
   "execution_count": 26,
   "metadata": {},
   "outputs": [],
   "source": [
    "feature_df = pd.DataFrame( {'top_words': vocab, 'importance': coef })"
   ]
  },
  {
   "cell_type": "code",
   "execution_count": 27,
   "metadata": {},
   "outputs": [],
   "source": [
    "feature_df = feature_df.set_index('top_words')\n",
    "feature_df = feature_df.sort_values('importance',ascending = False)"
   ]
  },
  {
   "cell_type": "code",
   "execution_count": 28,
   "metadata": {},
   "outputs": [
    {
     "data": {
      "text/html": [
       "<div>\n",
       "<style scoped>\n",
       "    .dataframe tbody tr th:only-of-type {\n",
       "        vertical-align: middle;\n",
       "    }\n",
       "\n",
       "    .dataframe tbody tr th {\n",
       "        vertical-align: top;\n",
       "    }\n",
       "\n",
       "    .dataframe thead th {\n",
       "        text-align: right;\n",
       "    }\n",
       "</style>\n",
       "<table border=\"1\" class=\"dataframe\">\n",
       "  <thead>\n",
       "    <tr style=\"text-align: right;\">\n",
       "      <th></th>\n",
       "      <th>importance</th>\n",
       "    </tr>\n",
       "    <tr>\n",
       "      <th>top_words</th>\n",
       "      <th></th>\n",
       "    </tr>\n",
       "  </thead>\n",
       "  <tbody>\n",
       "    <tr>\n",
       "      <th>she</th>\n",
       "      <td>-4.706530</td>\n",
       "    </tr>\n",
       "    <tr>\n",
       "      <th>her</th>\n",
       "      <td>-4.806711</td>\n",
       "    </tr>\n",
       "    <tr>\n",
       "      <th>me</th>\n",
       "      <td>-4.848835</td>\n",
       "    </tr>\n",
       "    <tr>\n",
       "      <th>he</th>\n",
       "      <td>-4.997237</td>\n",
       "    </tr>\n",
       "    <tr>\n",
       "      <th>we</th>\n",
       "      <td>-5.116886</td>\n",
       "    </tr>\n",
       "  </tbody>\n",
       "</table>\n",
       "</div>"
      ],
      "text/plain": [
       "           importance\n",
       "top_words            \n",
       "she         -4.706530\n",
       "her         -4.806711\n",
       "me          -4.848835\n",
       "he          -4.997237\n",
       "we          -5.116886"
      ]
     },
     "execution_count": 28,
     "metadata": {},
     "output_type": "execute_result"
    }
   ],
   "source": [
    "feature_df.head(5)"
   ]
  },
  {
   "cell_type": "code",
   "execution_count": 29,
   "metadata": {},
   "outputs": [
    {
     "data": {
      "image/png": "[encoded data removed]",
      "text/plain": [
       "<Figure size 1440x720 with 1 Axes>"
      ]
     },
     "metadata": {},
     "output_type": "display_data"
    }
   ],
   "source": [
    "weights = feature_df['importance'].head(20).sort_values()\n",
    "labels = weights.index\n",
    "\n",
    "plt.figure(figsize=(20,10))\n",
    "plt.barh(labels, weights, color = DO)\n",
    "plt.yticks(fontsize=20)\n",
    "plt.xticks(fontsize=20)\n",
    "plt.xlabel('Feature Weights', fontsize=30)\n",
    "plt.title(f'Top 20 Features - Naive Bayes', fontsize=42)\n",
    "plt.tight_layout()\n",
    "\n",
    "plt.savefig('../plots/top_feature_NB_pres.png')"
   ]
  },
  {
   "cell_type": "markdown",
   "metadata": {},
   "source": [
    "The barplot above depicts the top 20 features. All of the feature importances are negative which implies that the words better indicate whether the post will be in the negative class, which is the relationship_advice subreddit.\n",
    "\n",
    "Since there are more words on average in the relationship_advice submissions compared to the dating submissions, the higher occurences of feature words will most likely be in the relationship_advice submissions. \n",
    "\n",
    "However, most of the words listed above appear to be common words that do not carry much of a meaning."
   ]
  },
  {
   "cell_type": "markdown",
   "metadata": {},
   "source": [
    "## Mean Occurence in Feature Terms\n",
    "\n",
    "Based on all the negative feature terms, I want to investigate whether the feature terms appear more in the negative class, the relationship_advice subreddit, than the positive class, the dating subreddit."
   ]
  },
  {
   "cell_type": "markdown",
   "metadata": {},
   "source": [
    "Obtaining the TF-IDF data:"
   ]
  },
  {
   "cell_type": "code",
   "execution_count": 30,
   "metadata": {},
   "outputs": [],
   "source": [
    "tf_train_data = gs.best_estimator_.named_steps['tf'].transform(X_train)"
   ]
  },
  {
   "cell_type": "markdown",
   "metadata": {},
   "source": [
    "Creating a TF-IDF train dataframe using the feature names as vocab."
   ]
  },
  {
   "cell_type": "code",
   "execution_count": 32,
   "metadata": {},
   "outputs": [],
   "source": [
    "tf_train_df = pd.SparseDataFrame(tf_train_data, columns=vocab)"
   ]
  },
  {
   "cell_type": "markdown",
   "metadata": {},
   "source": [
    "Inserting the target train column."
   ]
  },
  {
   "cell_type": "code",
   "execution_count": 33,
   "metadata": {},
   "outputs": [],
   "source": [
    "tf_train_df.insert(0, 'target_val', y_train)"
   ]
  },
  {
   "cell_type": "markdown",
   "metadata": {},
   "source": [
    "Imputing NaN's as 0's."
   ]
  },
  {
   "cell_type": "code",
   "execution_count": 34,
   "metadata": {},
   "outputs": [],
   "source": [
    "tf_train_df.fillna(0, inplace=True)"
   ]
  },
  {
   "cell_type": "markdown",
   "metadata": {},
   "source": [
    "Grouping the subreddit classes, relationship_advice as 0 and dating as 1, and calculating the mean value of the feature names."
   ]
  },
  {
   "cell_type": "code",
   "execution_count": 36,
   "metadata": {},
   "outputs": [],
   "source": [
    "grouped_means = tf_train_df.groupby('target_val').mean()"
   ]
  },
  {
   "cell_type": "markdown",
   "metadata": {},
   "source": [
    "Changing the indices to the classes"
   ]
  },
  {
   "cell_type": "code",
   "execution_count": 37,
   "metadata": {
    "scrolled": true
   },
   "outputs": [],
   "source": [
    "grouped_means.index = [0, 1]"
   ]
  },
  {
   "cell_type": "code",
   "execution_count": 38,
   "metadata": {
    "scrolled": true
   },
   "outputs": [
    {
     "data": {
      "text/html": [
       "<div>\n",
       "<style scoped>\n",
       "    .dataframe tbody tr th:only-of-type {\n",
       "        vertical-align: middle;\n",
       "    }\n",
       "\n",
       "    .dataframe tbody tr th {\n",
       "        vertical-align: top;\n",
       "    }\n",
       "\n",
       "    .dataframe thead th {\n",
       "        text-align: right;\n",
       "    }\n",
       "</style>\n",
       "<table border=\"1\" class=\"dataframe\">\n",
       "  <thead>\n",
       "    <tr style=\"text-align: right;\">\n",
       "      <th></th>\n",
       "      <th>0</th>\n",
       "      <th>1</th>\n",
       "    </tr>\n",
       "  </thead>\n",
       "  <tbody>\n",
       "    <tr>\n",
       "      <th>ability</th>\n",
       "      <td>0.000423</td>\n",
       "      <td>0.000481</td>\n",
       "    </tr>\n",
       "    <tr>\n",
       "      <th>able</th>\n",
       "      <td>0.005117</td>\n",
       "      <td>0.004521</td>\n",
       "    </tr>\n",
       "    <tr>\n",
       "      <th>able talk</th>\n",
       "      <td>0.000561</td>\n",
       "      <td>0.000408</td>\n",
       "    </tr>\n",
       "    <tr>\n",
       "      <th>abroad</th>\n",
       "      <td>0.000949</td>\n",
       "      <td>0.000548</td>\n",
       "    </tr>\n",
       "    <tr>\n",
       "      <th>absolute</th>\n",
       "      <td>0.000679</td>\n",
       "      <td>0.000541</td>\n",
       "    </tr>\n",
       "  </tbody>\n",
       "</table>\n",
       "</div>"
      ],
      "text/plain": [
       "                  0         1\n",
       "ability    0.000423  0.000481\n",
       "able       0.005117  0.004521\n",
       "able talk  0.000561  0.000408\n",
       "abroad     0.000949  0.000548\n",
       "absolute   0.000679  0.000541"
      ]
     },
     "execution_count": 38,
     "metadata": {},
     "output_type": "execute_result"
    }
   ],
   "source": [
    "grouped_means.T.head()"
   ]
  },
  {
   "cell_type": "code",
   "execution_count": 39,
   "metadata": {},
   "outputs": [
    {
     "data": {
      "text/plain": [
       "0.5346"
      ]
     },
     "execution_count": 39,
     "metadata": {},
     "output_type": "execute_result"
    }
   ],
   "source": [
    "(grouped_means.T[0] > grouped_means.T[1]).mean()"
   ]
  },
  {
   "cell_type": "markdown",
   "metadata": {},
   "source": [
    "In 53.4% of the cases, the mean of the 0 class (relationship_advice) is greater than the mean of the 1 class (dating). The distribution is quite even, so it is a wonder why there is an issue with the negative feature weights. "
   ]
  },
  {
   "cell_type": "markdown",
   "metadata": {},
   "source": [
    "## Classification Metrics\n",
    "\n",
    "The test accuracy score for the gridsearch logistic regression model is 81%. \n",
    "\n",
    "I will generate a confusion matrix on our test data because we want to see how our naive bayes classification model performs on unseen data, ie checking whether posts are correctly or incorrectly classified from the dating subreddit."
   ]
  },
  {
   "cell_type": "code",
   "execution_count": 40,
   "metadata": {},
   "outputs": [],
   "source": [
    "y_pred = gs.predict(X_test)"
   ]
  },
  {
   "cell_type": "code",
   "execution_count": 41,
   "metadata": {},
   "outputs": [],
   "source": [
    "cm_def = np.array([['True Negative', 'False Positive'],\n",
    "                ['False Negative', 'True Positive']])\n",
    "cm_def = pd.DataFrame(cm_def,columns = ['pred neg', 'pred pos'], index = ['actual neg','actual pos'])"
   ]
  },
  {
   "cell_type": "code",
   "execution_count": 42,
   "metadata": {},
   "outputs": [],
   "source": [
    "cm = confusion_matrix(y_test, y_pred)\n",
    "cm_df = pd.DataFrame(cm, columns = ['pred neg', 'pred pos'], index = ['actual neg','actual pos'])"
   ]
  },
  {
   "cell_type": "code",
   "execution_count": 43,
   "metadata": {
    "scrolled": true
   },
   "outputs": [
    {
     "data": {
      "text/html": [
       "<div>\n",
       "<style scoped>\n",
       "    .dataframe tbody tr th:only-of-type {\n",
       "        vertical-align: middle;\n",
       "    }\n",
       "\n",
       "    .dataframe tbody tr th {\n",
       "        vertical-align: top;\n",
       "    }\n",
       "\n",
       "    .dataframe thead th {\n",
       "        text-align: right;\n",
       "    }\n",
       "</style>\n",
       "<table border=\"1\" class=\"dataframe\">\n",
       "  <thead>\n",
       "    <tr style=\"text-align: right;\">\n",
       "      <th></th>\n",
       "      <th>pred neg</th>\n",
       "      <th>pred pos</th>\n",
       "    </tr>\n",
       "  </thead>\n",
       "  <tbody>\n",
       "    <tr>\n",
       "      <th>actual neg</th>\n",
       "      <td>True Negative</td>\n",
       "      <td>False Positive</td>\n",
       "    </tr>\n",
       "    <tr>\n",
       "      <th>actual pos</th>\n",
       "      <td>False Negative</td>\n",
       "      <td>True Positive</td>\n",
       "    </tr>\n",
       "  </tbody>\n",
       "</table>\n",
       "</div>"
      ],
      "text/plain": [
       "                  pred neg        pred pos\n",
       "actual neg   True Negative  False Positive\n",
       "actual pos  False Negative   True Positive"
      ]
     },
     "metadata": {},
     "output_type": "display_data"
    },
    {
     "data": {
      "text/html": [
       "<div>\n",
       "<style scoped>\n",
       "    .dataframe tbody tr th:only-of-type {\n",
       "        vertical-align: middle;\n",
       "    }\n",
       "\n",
       "    .dataframe tbody tr th {\n",
       "        vertical-align: top;\n",
       "    }\n",
       "\n",
       "    .dataframe thead th {\n",
       "        text-align: right;\n",
       "    }\n",
       "</style>\n",
       "<table border=\"1\" class=\"dataframe\">\n",
       "  <thead>\n",
       "    <tr style=\"text-align: right;\">\n",
       "      <th></th>\n",
       "      <th>pred neg</th>\n",
       "      <th>pred pos</th>\n",
       "    </tr>\n",
       "  </thead>\n",
       "  <tbody>\n",
       "    <tr>\n",
       "      <th>actual neg</th>\n",
       "      <td>2370</td>\n",
       "      <td>485</td>\n",
       "    </tr>\n",
       "    <tr>\n",
       "      <th>actual pos</th>\n",
       "      <td>518</td>\n",
       "      <td>1889</td>\n",
       "    </tr>\n",
       "  </tbody>\n",
       "</table>\n",
       "</div>"
      ],
      "text/plain": [
       "            pred neg  pred pos\n",
       "actual neg      2370       485\n",
       "actual pos       518      1889"
      ]
     },
     "metadata": {},
     "output_type": "display_data"
    }
   ],
   "source": [
    "from IPython.display import display\n",
    "display(cm_def)\n",
    "display(cm_df)"
   ]
  },
  {
   "cell_type": "code",
   "execution_count": 44,
   "metadata": {},
   "outputs": [
    {
     "data": {
      "text/plain": [
       "5262"
      ]
     },
     "execution_count": 44,
     "metadata": {},
     "output_type": "execute_result"
    }
   ],
   "source": [
    "len(X_test)"
   ]
  },
  {
   "cell_type": "markdown",
   "metadata": {},
   "source": [
    "Out of 5262 unseen dating and relationship_advice subreddit submissions:\n",
    "\n",
    "**True Positives** - 1889\n",
    "- Our model correctly predicted that 1889 posts are from the dating subreddit\n",
    "\n",
    "**True Negatives** - 2370\n",
    "- Our model correctly predicted that 2370 posts are from the relationship_advice subreddit\n",
    "\n",
    "**False Positive** - 485\n",
    "- Our model incorrectly predicted that 576 posts are from the dating subreddit. \n",
    "\n",
    "**False Negative** - 418\n",
    "- Our model incorrectly predicted that 433 posts are from the relationship_advice subreddit\n",
    "\n",
    "Given that the number of false positives and false negatives are roughly similar and that the true positives and true negatives are similar as well, the model only shows a slight bias towards the majority class which is the relationship_advice subreddit. "
   ]
  },
  {
   "cell_type": "markdown",
   "metadata": {},
   "source": [
    "## AUC ROC CURVE\n",
    "\n",
    "Again, using the AUC ROC curve I will examine how well our model classifies the subreddit posts as 1's and 0's."
   ]
  },
  {
   "cell_type": "code",
   "execution_count": 45,
   "metadata": {},
   "outputs": [],
   "source": [
    "pred_proba = gs.predict_proba(X_test)[:,1]"
   ]
  },
  {
   "cell_type": "code",
   "execution_count": 46,
   "metadata": {},
   "outputs": [],
   "source": [
    "pred_df = pd.DataFrame({'true_values': y_test,\n",
    "                        'pred_probs':pred_proba})"
   ]
  },
  {
   "cell_type": "markdown",
   "metadata": {},
   "source": [
    "Calculating the AUC ROC score."
   ]
  },
  {
   "cell_type": "code",
   "execution_count": 47,
   "metadata": {},
   "outputs": [
    {
     "data": {
      "text/plain": [
       "0.89"
      ]
     },
     "execution_count": 47,
     "metadata": {},
     "output_type": "execute_result"
    }
   ],
   "source": [
    "auc_roc_score = round(roc_auc_score(pred_df['true_values'], pred_df['pred_probs']),2)\n",
    "auc_roc_score"
   ]
  },
  {
   "cell_type": "markdown",
   "metadata": {},
   "source": [
    "The AUC ROC score is 89% which is quite good."
   ]
  },
  {
   "cell_type": "code",
   "execution_count": 48,
   "metadata": {},
   "outputs": [
    {
     "data": {
      "image/png": "[encoded data removed]",
      "text/plain": [
       "<Figure size 1440x720 with 1 Axes>"
      ]
     },
     "metadata": {},
     "output_type": "display_data"
    }
   ],
   "source": [
    "# Create figure.\n",
    "plt.figure(figsize = (20,10))\n",
    "\n",
    "# Create threshold values. (Dashed red line in image.)\n",
    "thresholds = np.linspace(0, 1, 200)\n",
    "\n",
    "# Define function to calculate sensitivity. (True positive rate.)\n",
    "def TPR(df, true_col, pred_prob_col, threshold):\n",
    "    true_positive = df[(df[true_col] == 1) & (df[pred_prob_col] >= threshold)].shape[0]\n",
    "    false_negative = df[(df[true_col] == 1) & (df[pred_prob_col] < threshold)].shape[0]\n",
    "    return true_positive / (true_positive + false_negative)\n",
    "    \n",
    "# Define function to calculate 1 - specificity. (False positive rate.)\n",
    "def FPR(df, true_col, pred_prob_col, threshold):\n",
    "    true_negative = df[(df[true_col] == 0) & (df[pred_prob_col] <= threshold)].shape[0]\n",
    "    false_positive = df[(df[true_col] == 0) & (df[pred_prob_col] > threshold)].shape[0]\n",
    "    return 1 - (true_negative / (true_negative + false_positive))\n",
    "    \n",
    "# Calculate sensitivity & 1-specificity for each threshold between 0 and 1.\n",
    "tpr_values = [TPR(pred_df, 'true_values', 'pred_probs', prob) for prob in thresholds]\n",
    "fpr_values = [FPR(pred_df, 'true_values', 'pred_probs', prob) for prob in thresholds]\n",
    "\n",
    "# Plot ROC curve.\n",
    "plt.plot(fpr_values, # False Positive Rate on X-axis\n",
    "         tpr_values, # True Positive Rate on Y-axis\n",
    "         label='ROC Curve',\n",
    "        color = DO)\n",
    "\n",
    "# Plot baseline. (Perfect overlap between the two populations.)\n",
    "plt.plot(np.linspace(0, 1, 200),\n",
    "         np.linspace(0, 1, 200),\n",
    "         label='baseline',\n",
    "         linestyle='--')\n",
    "\n",
    "# Label axes.\n",
    "plt.title(f'ROC Curve with AUC = {auc_roc_score}', fontsize=32)\n",
    "plt.ylabel('Sensitivity', fontsize=20)\n",
    "plt.xlabel('1 - Specificity', fontsize=20)\n",
    "\n",
    "# Create legend.\n",
    "plt.legend(fontsize=16);"
   ]
  },
  {
   "cell_type": "markdown",
   "metadata": {},
   "source": [
    "The blue dashed baseline indicates a perfect overlap between the dating and relationship_advice subreddit.\n",
    "\n",
    "The ROC curve is generated by varying the classification threshold from 0 to 1. The curve provides a visualization of the tradeoff between sensitivity and specificity.\n",
    "\n",
    "Through the naive bayes classification model, the subreddit populations are well-separated."
   ]
  },
  {
   "cell_type": "markdown",
   "metadata": {},
   "source": [
    "The sensitivity is how many posts did the model get correct out of all dating posts."
   ]
  },
  {
   "cell_type": "code",
   "execution_count": 49,
   "metadata": {},
   "outputs": [
    {
     "data": {
      "text/plain": [
       "0.78"
      ]
     },
     "execution_count": 49,
     "metadata": {},
     "output_type": "execute_result"
    }
   ],
   "source": [
    "sensitivity = round(len(pred_df[(pred_df['true_values'] == 1) & (pred_df['pred_probs'] >= 0.5)])/len(pred_df[pred_df['true_values'] == 1]),2)\n",
    "sensitivity"
   ]
  },
  {
   "cell_type": "markdown",
   "metadata": {},
   "source": [
    "The sensitivity rate is 78%."
   ]
  },
  {
   "cell_type": "markdown",
   "metadata": {},
   "source": [
    "The specificity is how many posts did the mdoel get correct out of all the relationship_advice posts."
   ]
  },
  {
   "cell_type": "code",
   "execution_count": 50,
   "metadata": {
    "scrolled": true
   },
   "outputs": [
    {
     "data": {
      "text/plain": [
       "0.83"
      ]
     },
     "execution_count": 50,
     "metadata": {},
     "output_type": "execute_result"
    }
   ],
   "source": [
    "specificity = round(len(pred_df[(pred_df['true_values'] == 0) & (pred_df['pred_probs'] <= 0.5)])/len(pred_df[pred_df['true_values'] == 0]),2)\n",
    "specificity"
   ]
  },
  {
   "cell_type": "markdown",
   "metadata": {},
   "source": [
    "The specificity rate is 83%."
   ]
  },
  {
   "cell_type": "markdown",
   "metadata": {},
   "source": [
    "Despite the great classification metric scores, it appears that the naive bayes model is not a robust model due to its lack of interpretability of its negative feature terms. As a result, the model will not be picked out of the 3 classification models. I will now implement a random forest and examine its accuracy score along with other metrics. "
   ]
  },
  {
   "cell_type": "markdown",
   "metadata": {},
   "source": [
    "| Model | Train Accuracy | Test Accuracy | AUC ROC | True Positive | True Negative | False Positive | False Negative |\n",
    "|---|---|---|---|---|---|---|---|\n",
    "| Logistic Classification | 87% | 82% | <font color = 'red'> 90% |2015 | 2320 | 535 | 392 |  \n",
    "| Multinomial Naive Bayes | 83% | <font color = 'red'> 81% | 89% | 1889 | 2370 | 485 | 418 |\n",
    "| Random Forests | - | - | - | - |- |- |- |"
   ]
  },
  {
   "cell_type": "markdown",
   "metadata": {},
   "source": [
    "# Proceed to 3C_Modeling: Random Forests"
   ]
  }
 ],
 "metadata": {
  "kernelspec": {
   "display_name": "Python 3",
   "language": "python",
   "name": "python3"
  },
  "language_info": {
   "codemirror_mode": {
    "name": "ipython",
    "version": 3
   },
   "file_extension": ".py",
   "mimetype": "text/x-python",
   "name": "python",
   "nbconvert_exporter": "python",
   "pygments_lexer": "ipython3",
   "version": "3.6.8"
  }
 },
 "nbformat": 4,
 "nbformat_minor": 2
}
